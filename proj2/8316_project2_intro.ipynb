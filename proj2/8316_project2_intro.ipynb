{
 "cells": [
  {
   "cell_type": "markdown",
   "metadata": {},
   "source": [
    "# Introduction"
   ]
  },
  {
   "cell_type": "markdown",
   "metadata": {},
   "source": [
    "In this lab we will investigate W bosons produced in the LHC's 8 TeV proton proton collisions. These samples were produced 4 years ago in a fun experiment that opened up the option of performing low mass resonance searches at the LHC. The studies done then have led to a wealth of results from both LHC experiments, ATLAS and CMS. To understand how this study works, we first need to introduce a few concepts.\n",
    "\n",
    "### W to QQ \n",
    "Let's first consider the process that we would like to look for. The production of W bosons in proton collisions. Here is a Feynman diagram of the process. \n",
    "<img src=\"images/Wqq.png\" width=\"300\"/>\n",
    "The left part of the diagram represents the production of the W boson via some initial quark interaction (quarks and anti-quarks are present when two protons collide). At the right you have a gluon (bottom) that is produced in association with the W boson (top). At the top right, the W boson is decaying. It can decay to many things. The full list of W boson decays is [here](http://pdg.lbl.gov/2012/listings/rpp2012-list-w-boson.pdf), in the W branching ratios section. The quark label generically means that the W boson decays to two quarks. In the reference document this is equivalent to a decay to hadrons. \n",
    "\n",
    "Both quarks and gluons will decay into objects that we refer to as *jets*. A jet is collection of particles coming from an original quark or gluon. I will not explain the details of a jet, instead I will point you to summer school lectures I gave on this [here](https://indico.fnal.gov/event/11505/session/30/?slotId=0#20160820) (start from slide 36). \n",
    "\n",
    "### Lorentz boost \n",
    "This problem becomes interesting when the W boson has a high energy, or in other words it is boosted. In this case, the decays of the W are restricted to within a cone. A simple calculation of special relativity <font color='red'> that you should do </font> will give you that the maximum angular separation $\\Delta \\theta$ between the two decay products, can be described by:\n",
    "\\begin{eqnarray}\n",
    "\\Delta \\theta & < & \\frac{2m}{p}.\n",
    "\\end{eqnarray}\n",
    "Where, $m$ is the mass and $p$ is the momentum of the resonance decaying, in this case the W boson. Thus, by taking $p$ to be sufficiently high, the angle $\\theta$ is sufficiently small that we can resolve the two quark decays as one single jet cone instead of two separate jets. We will still take a large cone with $\\Delta \\theta_{max} = 0.8$. \n",
    "This means that our final state will look like this in the detector:\n",
    "<img src=\"images/wjet.png\" width=\"300\"/>\n",
    "\n",
    "*A small point about collisions at the LHC is that in place of momentum we often use a variable called transverse momentum or $\\vec{p}_{T}$. This is the projection of $\\vec{p}$ onto the plane perpendicular to the collision. This plane is particularly well understood since by transverse momentum conservation all collisions need to have $\\sum_{i} \\vec{p_{T}}^{i}=0$ for all resulting particles in the collision. For this analysis, you can effectively interchange $p$ and $\\vec{p}_{T}$.* Some elementary introduction about detector's geometry can be found [here](https://www.lhc-closer.es/taking_a_closer_look_at_lhc/0.momentum).\n",
    "\n",
    "### Backgrounds\n",
    "Once we have a cone sufficient to detect both decay products we need to find a jet with two quarks. To find a jet with two quarks we need to remove our background processes, which are events that \"look like\" the interaction we want to find, from our events. Our main background process consists of the diagrams below:\n",
    "<img src=\"images/dijet.png\" width=\"600\"/>\n",
    "where quarks and gluons are produced by the strong force and manifest in the detector as jets. We call this background *multijet* or *QCD background*, which stands for Quantum Chromodynamics. Other sub-dominant background processes are the production of top quark pairs $t\\bar{t}$, refered to as the *top quark background*, or the production of a pair of W or Z bosons, which we refer to as the *diboson background*.\n",
    "\n",
    "### Other processes\n",
    "There are additional processes that will produce a jet and gluon in the final state as well, which we might be interested in looking for as well. These are the production of Z bosons and Higgs bosons H. They are also resonances that may decay into a pair of quarks and can get reconstructed in one single jet cone - *but what is interesting is that they most often decay into a pair of b-quarks*. \n",
    "\n",
    "Besides its decay, one can use the mass of the resonance to distinguish between these signatures: the Z boson has a mass of $\\sim 90~$GeV, the Higgs boson has a mass of $\\sim 125~$GeV, while the W boson has a mass of $\\sim 80.4~$GeV.\n",
    "\n",
    "As a summary, our main background consists of either a quark or a gluon and our signal is a boson with 2 quarks inside. So the challenge is to *construct an identification algorithm of a jet that looks like it originated from two quarks*. "
   ]
  },
  {
   "cell_type": "markdown",
   "metadata": {},
   "source": [
    "# Loading data & Auxiliary functions\n",
    "\n",
    "Before we start, let's define collider coordinates centered around the collision point. We tend to write our momentum 4 vector as $\\vec{p}=(p_{T},\\eta,\\phi,m)$ in place of $\\vec{p}=(p,\\theta,\\phi,m)$. You can read more in this short link [here](https://www.lhc-closer.es/taking_a_closer_look_at_lhc/0.momentum). \n",
    "\n",
    "Now is a good time to look at the data. Let's take a look at the different samples we have. The data can be downloaded from this link [here (3 GB)](https://www.dropbox.com/s/bcyab2lljie72aj/data.tgz?dl=0). And these extra files from  [here (130 MB)](https://www.dropbox.com/s/p756oa4mfw17lfw/data.zip?dl=0). Copy all of these in a directory called `data`.\n",
    "\n",
    "If you are on a Mac/Linux machine you can use these commands (uncomment them before running) to download the data sets"
   ]
  },
  {
   "cell_type": "code",
   "execution_count": 1,
   "metadata": {
    "scrolled": true
   },
   "outputs": [
    {
     "name": "stdout",
     "output_type": "stream",
     "text": [
      "zsh:1: no matches found: https://www.dropbox.com/s/bcyab2lljie72aj/data.tgz?dl=1\n",
      "zsh:1: no matches found: https://www.dropbox.com/s/p756oa4mfw17lfw/data.zip?dl=1\n"
     ]
    }
   ],
   "source": [
    "#3GB Data Set\n",
    "#!wget https://www.dropbox.com/s/bcyab2lljie72aj/data.tgz?dl=1\n",
    "\n",
    "#130MB Data Set\n",
    "#!wget https://www.dropbox.com/s/p756oa4mfw17lfw/data.zip?dl=1"
   ]
  },
  {
   "cell_type": "code",
   "execution_count": 5,
   "metadata": {},
   "outputs": [],
   "source": [
    "# Extract the data\n",
    "#!unzip data.zip?dl=1\n",
    "#!tar -xvf data.tgz?dl=1\n",
    "\n",
    "#Clean the downloaded file\n",
    "#!rm data.zip?dl=1 data.tgz?dl=1 "
   ]
  },
  {
   "cell_type": "markdown",
   "metadata": {},
   "source": [
    "Here are the different datasets:\n",
    "* **Data**: *`data/JetHT_s.root`*. The 8 TeV JetHT dataset. This means that the data passed an online selection (trigger) that required the event to have jets. More on triggers below.\n",
    "* **W(qq) simulation**: Here we have different options for a simulated qq=>W=>qq dataset\n",
    "    * *`data/WQQ_s.root`*: 8 TeV collision energy (low number of events)\n",
    "    * *`data/skimh/WQQ_sh.root`*: 13 TeV collision energy (high number of events but different collision energy). Can use these to train NNs and make nice plots.\n",
    "    * *`data/WQQ_new.root`*: 8 TeV collision energy (newer dataset with not so high number of events)* \n",
    "* **Z(qq) simulation**: Again, we have different options for a simulated qq=>Z=>qq dataset\n",
    "    * *`data/ZQQ_s.root`*: 8 TeV collision energy (low number of events)\n",
    "    * *`data/skimh/ZQQ_sh.root`*: 13 TeV collision energy (high number of events but higher collision energy). Can use these to train NNs and make nice plots.\n",
    "    * *`data/ZQQ_new.root`*: 8 TeV collision energy (newer dataset with not so high number of events)\n",
    "* **H(bb) simulation**: *`data/ggH.root`*: This is a small simulated gg=>H=>bb dataset at 8 TeV collision energy. (we might need this in the future).\n",
    "* **Multijet production or QCD background simulation**: *`data/QCD_s.root`*. This is our main background. And our worst modeled. We just call these backgrounds QCD because they are produced with Quantum chromodynamics.\n",
    "* **Top quark pair production simulation**: *`data/TT.root`*. This is a background sample with top quark decays\n",
    "* **Diboson simulation**: *`data/WW.root`,`data/WZ.root`,`data/ZZ.root`*. These are three rarer double W, W+Z and Z+Z diboson samples where we have two bosons instead of one."
   ]
  },
  {
   "cell_type": "code",
   "execution_count": 2,
   "metadata": {},
   "outputs": [
    {
     "name": "stdout",
     "output_type": "stream",
     "text": [
      "Collecting mplhep\n",
      "  Obtaining dependency information for mplhep from https://files.pythonhosted.org/packages/1e/0b/0a8a580d20c23a2b58c6d18128798eb1d7102acfc45d13f7f0fa81948363/mplhep-0.3.41-py3-none-any.whl.metadata\n",
      "  Downloading mplhep-0.3.41-py3-none-any.whl.metadata (10 kB)\n",
      "Requirement already satisfied: matplotlib>=3.4 in /Users/Josh/miniconda3/lib/python3.11/site-packages (from mplhep) (3.7.1)\n",
      "Collecting mplhep-data (from mplhep)\n",
      "  Obtaining dependency information for mplhep-data from https://files.pythonhosted.org/packages/b9/f2/97faf68c79fc135061190092e8e6db9a024de4249a7e82acc83d9443db2b/mplhep_data-0.0.3-py3-none-any.whl.metadata\n",
      "  Downloading mplhep_data-0.0.3-py3-none-any.whl.metadata (3.3 kB)\n",
      "Requirement already satisfied: numpy>=1.16.0 in /Users/Josh/miniconda3/lib/python3.11/site-packages (from mplhep) (1.24.2)\n",
      "Requirement already satisfied: packaging in /Users/Josh/miniconda3/lib/python3.11/site-packages (from mplhep) (23.0)\n",
      "Collecting uhi>=0.2.0 (from mplhep)\n",
      "  Obtaining dependency information for uhi>=0.2.0 from https://files.pythonhosted.org/packages/2a/9a/d5de1ec139e24f0f8d9e1b9cfdf6b3ade0d0d204f99b20ff921472206b91/uhi-0.4.0-py3-none-any.whl.metadata\n",
      "  Downloading uhi-0.4.0-py3-none-any.whl.metadata (7.2 kB)\n",
      "Requirement already satisfied: contourpy>=1.0.1 in /Users/Josh/miniconda3/lib/python3.11/site-packages (from matplotlib>=3.4->mplhep) (1.0.5)\n",
      "Requirement already satisfied: cycler>=0.10 in /Users/Josh/miniconda3/lib/python3.11/site-packages (from matplotlib>=3.4->mplhep) (0.11.0)\n",
      "Requirement already satisfied: fonttools>=4.22.0 in /Users/Josh/miniconda3/lib/python3.11/site-packages (from matplotlib>=3.4->mplhep) (4.41.0)\n",
      "Requirement already satisfied: kiwisolver>=1.0.1 in /Users/Josh/miniconda3/lib/python3.11/site-packages (from matplotlib>=3.4->mplhep) (1.4.4)\n",
      "Requirement already satisfied: pillow>=6.2.0 in /Users/Josh/miniconda3/lib/python3.11/site-packages (from matplotlib>=3.4->mplhep) (9.4.0)\n",
      "Requirement already satisfied: pyparsing>=2.3.1 in /Users/Josh/miniconda3/lib/python3.11/site-packages (from matplotlib>=3.4->mplhep) (3.1.0)\n",
      "Requirement already satisfied: python-dateutil>=2.7 in /Users/Josh/miniconda3/lib/python3.11/site-packages (from matplotlib>=3.4->mplhep) (2.8.2)\n",
      "Requirement already satisfied: six>=1.5 in /Users/Josh/miniconda3/lib/python3.11/site-packages (from python-dateutil>=2.7->matplotlib>=3.4->mplhep) (1.16.0)\n",
      "Downloading mplhep-0.3.41-py3-none-any.whl (37 kB)\n",
      "Downloading uhi-0.4.0-py3-none-any.whl (11 kB)\n",
      "Downloading mplhep_data-0.0.3-py3-none-any.whl (5.8 MB)\n",
      "\u001b[2K   \u001b[90m━━━━━━━━━━━━━━━━━━━━━━━━━━━━━━━━━━━━━━━━\u001b[0m \u001b[32m5.8/5.8 MB\u001b[0m \u001b[31m34.7 MB/s\u001b[0m eta \u001b[36m0:00:00\u001b[0m00:01\u001b[0m00:01\u001b[0m\n",
      "\u001b[?25hInstalling collected packages: uhi, mplhep-data, mplhep\n",
      "Successfully installed mplhep-0.3.41 mplhep-data-0.0.3 uhi-0.4.0\n",
      "\n",
      "\u001b[1m[\u001b[0m\u001b[34;49mnotice\u001b[0m\u001b[1;39;49m]\u001b[0m\u001b[39;49m A new release of pip is available: \u001b[0m\u001b[31;49m23.2.1\u001b[0m\u001b[39;49m -> \u001b[0m\u001b[32;49m24.0\u001b[0m\n",
      "\u001b[1m[\u001b[0m\u001b[34;49mnotice\u001b[0m\u001b[1;39;49m]\u001b[0m\u001b[39;49m To update, run: \u001b[0m\u001b[32;49mpip install --upgrade pip\u001b[0m\n"
     ]
    }
   ],
   "source": [
    "# pre-requisites\n",
    "# uproot High energy physics python file format: https://masonproffitt.github.io/uproot-tutorial/aio.html\n",
    "import uproot\n",
    "import numpy as np\n",
    "import matplotlib.pyplot as plt\n",
    "import os,sys\n",
    "\n",
    "!pip install mplhep\n",
    "# plotting style for High Energy physics \n",
    "import mplhep as hep\n",
    "plt.style.use(hep.style.CMS)"
   ]
  },
  {
   "cell_type": "code",
   "execution_count": 4,
   "metadata": {},
   "outputs": [],
   "source": [
    "# Now let's open the data. \n",
    "wqq    = uproot.open(\"data/WQQ_s.root\")[\"Tree\"]\n",
    "zqq    = uproot.open(\"data/ZQQ_s.root\")[\"Tree\"]\n",
    "wqq13  = uproot.open(\"data/skimh/WQQ_sh.root\")[\"Tree\"]\n",
    "zqq13  = uproot.open(\"data/skimh/ZQQ_sh.root\")[\"Tree\"]\n",
    "wqq_n  = uproot.open(\"data/WQQ_8TeV_Jan11_r.root\")[\"Tree\"]\n",
    "zqq_n  = uproot.open(\"data/ZQQ_8TeV_Jan11_r.root\")[\"Tree\"]\n",
    "qcd    = uproot.open(\"data/QCD_s.root\")[\"Tree\"]\n",
    "tt     = uproot.open(\"data/TT.root\")[\"Tree\"]\n",
    "ww     = uproot.open(\"data/WW.root\")[\"Tree\"]\n",
    "wz     = uproot.open(\"data/WZ.root\")[\"Tree\"]\n",
    "zz     = uproot.open(\"data/ZZ.root\")[\"Tree\"]\n",
    "ggh    = uproot.open(\"data/ggH.root\")[\"Tree\"]\n",
    "data   = uproot.open(\"data/JetHT_s.root\")[\"Tree\"]\n",
    "\n",
    "dataDict = {'qcd': qcd,\n",
    "            'tt': tt,\n",
    "            'data': data,\n",
    "            'wqq': wqq,\n",
    "            'zqq': zqq,\n",
    "            'wqq13': wqq13,\n",
    "            'zqq13': zqq13,\n",
    "            'wqq_n': wqq_n,\n",
    "            'zqq_n': zqq_n,\n",
    "            'ww': ww,\n",
    "            'zz': zz,\n",
    "            'wz': wz,\n",
    "            'ggh': ggh\n",
    "            }\n",
    "from collections import OrderedDict \n",
    "\n",
    "order_of_keys = ['data','qcd','tt','ww','zz','wz','wqq','wqq13','wqq_n','zqq','zqq13','zqq_n','ggh']\n",
    "list_of_tuples = [(key, dataDict[key]) for key in order_of_keys]\n",
    "OrdDataDict = OrderedDict(list_of_tuples)"
   ]
  },
  {
   "cell_type": "markdown",
   "metadata": {},
   "source": [
    "# Exploring data \n",
    "\n",
    "Now, let's explore the data. There are a lot of different variables, but most of them will not used for this study. \n",
    "However, you should feel free to explore the different variables. For completeness, I will write a table of all of the different variables below: \n",
    "\n",
    "| sample   | book keeping variable | \n",
    "|------|------|\n",
    "| run      | LHC run  period           |\n",
    "| lumi     | LHC run period sub section | \n",
    "| event    | LHC collision id |\n",
    "| trigger  | Bitmask of triggers that have been passed |  \n",
    "| hltmatch | ??? (unused I think) | \n",
    "| puweight | Weight to match the beam inensity (so called Pileup) |\n",
    "| npu      | For simulation the number of simulated pileup collisions | \n",
    "| npuPlusOne      | \"\" |\n",
    "| npuMinusOne     | \"\" |\n",
    "| nvtx            | Number of reconstructed vertices (a proxy for the total number of collisions) | \n",
    "| metFiltersWord  | Bitmask of whether event had anamalous detector features | \n",
    "| scale1fb        | The expected number of events per 1/fb of data | \n",
    "| rho             | energy density | \n",
    "| metRaw          | Raw Missing Transverse Energy (this is a proxy of the direction of invisible particles in the transverse plane | \n",
    "| metRawPhi       | Raw Missing Transverse Energy direction in transverse plane | \n",
    "| met             | Corrected metRaw | \n",
    "| metphi          | Correct metRawPhi | \n",
    "| tkmet           | charged metRaw | \n",
    "| tkmetphi        | charged metRawPhi | \n",
    "| mvamet          | ML  corrected metRaw |  \n",
    "| mvametphi       | ML corrected metRawPhi | \n",
    "| puppet          | PUPPI corrected metRaw |\n",
    "| puppetphi       | PUPPI corrected metRawPhi | \n",
    "| mt              | relativistic mass of (met+leading jet) in the transverse plane | \n",
    "| rawmt           | relativistic mass of (metRaw+leading jet) in the transverse plane | \n",
    "| tkmt            | relativistic mass of (tkmet+leading jet) in the transverse plane | \n",
    "| mvamt           | relativistic mass of (mvamet+leading jet) in the transverse plane | \n",
    "| puppetmt        | relativistic mass of (puppet+leading jet) in the transverse plane | \n",
    "| metSig          | probalbilistic measure missing transverse Energy is from 0 in sigma | \n",
    "| mvaMetSig       | probalbilistic mvamet is from 0 in sigma | \n",
    "| njets           | Number of jets with pt > 30 GeV | \n",
    "| nbtags          | Number of b-jets with pt > 30 GeV | \n",
    "| nfwd            | Number of jets with pt > 30 GeV and abs(eta) > 2.5 | \n",
    "| mindphi         | minimum direction in transverse plane of all jets and met | \n",
    "| j0_pt           | leading small jet pt | \n",
    "| j0_eta          | leading small jet $\\eta$ | \n",
    "| j0_phi          | leading small jet $\\phi$ | \n",
    "| j1_pt           | sub leading small jet pt | \n",
    "| j1_eta          | sub leading small jet $\\eta$ | \n",
    "| j1_phi          | sub leading small jet $\\phi$ | \n",
    "| j2_pt           | third highest leading small jet pt | \n",
    "| j2_eta          | third highest leading small jet $\\eta$ | \n",
    "| j2_phi          | third leading small jet $\\phi$ | \n",
    "| j0_mass         | leading jet mass | \n",
    "| j0_csv          | leading jet ML b-quark likelihood ML discriminator |\n",
    "| j0_qgid         | leading jet quark vs gluon discrminator | \n",
    "| j0_chf          | leading jet charged particle fraction  |\n",
    "| j0_nhf          | leading jet neutral (on photon) particle fraction  |\n",
    "| j0_emf          | leading jet photon particle fraction  |\n",
    "| j0_dphi         | delta $\\phi$ w. respect to the sub-leading jet | \n",
    "| j1_mass         | subleading jet mass | \n",
    "| j1_csv          | subleading jet ML b-quark likelihood ML discriminator |\n",
    "| j1_qgid         | subleading jet quark vs gluon discrminator | \n",
    "| j1_chf          | subleading jet charged particle fraction  |\n",
    "| j1_nhf          | subleading jet neutral (on photon) particle fraction  |\n",
    "| j1_emf          | subleading jet photon particle fraction  |\n",
    "| j1_dphi         | delta $\\phi$ w. respect to the leading jet  | \n",
    "| j2_mass         | third highest jet mass | \n",
    "| j2_csv          | third highest ML b-quark likelihood ML discriminator |\n",
    "| j2_qgid         | third highest jet quark vs gluon discrminator | \n",
    "| j2_chf          | third highest jet charged particle fraction  |\n",
    "| j2_nhf          | third highest jet neutral (on photon) particle fraction  |\n",
    "| j2_emf          | third highest jet photon particle fraction  |\n",
    "| j2_dphi         | delta $\\phi$ w. respect to the closest jet  | \n",
    "| dj0_pt          | Lead and sub leading jets combined 4-vector pt  | \n",
    "| dj0_mass        | Lead and sub leading jets combined 4-vector mass | \n",
    "| dj0_phi         | Lead and sub leading jets combined 4-vector $phi$ | \n",
    "| dj0_y           | Lead and sub leading jets combined 4-vector rapidity | \n",
    "| dj0_qgid        | Lead and sub leading jets combined quark gluon| \n",
    "| dj0_csv         | Lead and sub leading jets combined b-quark discriminator | \n",
    "| dj0_jdphi       | Lead and sub leading jets difference in transverse plane | \n",
    "| nvjet           | number of fat jets | \n",
    "| vjet0_pt        | fat jet pt | \n",
    "| vjet0_eta       | fat jet $\\eta$ | \n",
    "| vjet0_phi       | fat jet $\\phi$ | \n",
    "| vjet0_mass      | fat jet mass | \n",
    "| vjet0_csv       | fat jet b-tag probability | \n",
    "| vjet0_flavor    | fat jet flavor id (if simulation) | \n",
    "| vjet0_t1        | fat jet $\\tau_{1}$ | \n",
    "| vjet0_t2        | fat jet $\\tau_{2}$ | \n",
    "| vjet0_t3        | fat jet $\\tau_{3}$ | \n",
    "| vjet0_msd0      | fat jet soft drop mass $\\beta=0$ |\n",
    "| vjet0_msd1      | fat jet soft drop mass $\\beta=1$ |\n",
    "| vjet0_mprune    | fat jet pruned mass |\n",
    "| vjet0_mtrim     | fat jet pruned mass |\n",
    "| vjet0_pullAngle | fat jet color flow variable between quarks |\n",
    "| vjet0_sj1_csv   | fat jet highest momentum subjet b-tag ML discriminator | \n",
    "| vjet0_sj2_csv   | fat jet subleading momentum subjet b-tag ML discriminator | \n",
    "| vjet0_sj1_qgid  | fat jet highest momentum subjet quark gluon likelihood | \n",
    "| vjet0_sj2_qgid  | fat jet subleading momentum subjet quark gluon likelihood | \n",
    "| vjet0_sj1_q     | fat jet highest momentum subjet charge  | \n",
    "| vjet0_sj2_q     | fat jet highest momentum subjet charge  | \n",
    "| vjet0_sj1_z     | fat jet highest momentum subjet energy relative to fat jet  | \n",
    "| vjet0_sj2_z     | fat jet subleading momentum subjet energy relative to fat jet  | \n",
    "| vjet0_iso15     | fat jet isolation with 1.5 cone | \n",
    "| vjet0_c2b0      | fat jet  $C_{2}^{\\beta=0}$ correlation function for two likelihood |  \n",
    "| vjet0_c2b0P2    | fat jet $C_{2}^{\\beta=0.2}$ correlation function for two likelihood |  \n",
    "| vjet0_c2b0P5    | fat jet $C_{2}^{\\beta=0.5}$ correlation function for two likelihood |  \n",
    "| vjet0_c2b1P0    | fat jet $C_{2}^{\\beta=1.0}$ correlation function for two likelihood |  \n",
    "| vjet0_c2b2P0    | fat jet $C_{2}^{\\beta=2.0}$ correlation function for two likelihood |  \n",
    "| vjet0_qjet      | fat jet quantum jet volatility |  \n",
    "| vjet0_trig      | fat jet trigger matched | \n",
    "| vjet0_genm      | fat jet simulated mass (if matched to a jet) |\n",
    "| vjet0_genV      | ??? |\n",
    "| nmuons          | number of muons | \n",
    "| mu0_pt          | Leading Muon  pt | \n",
    "| mu0_eta         | Leading Muon $\\eta$ | \n",
    "| mu0_phi         | Leading Muon $\\phi$ | \n",
    "| dm0_pt          | dimuon combined 4-vector pt | \n",
    "| dm0_mass        | dimuon combined 4-vector relativistic mass | \n",
    "| dm0_phi         | dimuon combined 4-vector $\\phi$ | \n",
    "| dm0_y           | dimuon combined 4-vector rapidity | \n",
    "| nelectrons      | number of electrons | \n",
    "| e0_pt           | leading electron pt | \n",
    "| e0_eta          | leading electron $\\eta$ |  \n",
    "| e0_phi          | leading electron $\\phi$ |\n",
    "| ntaus           | number of hadronic $\\tau_{h}$ | \n",
    "| tau0_pt         | leading $\\tau_{h}$ $p_{T}$ |\n",
    "| tau0_eta        | leading $\\tau_{h}$ $\\eta$ |\n",
    "| tau0_phi        | leading $\\tau_{h}$ $\\phi$ |\n",
    "| nphotons        | number of additional photons | \n",
    "| pho0_pt         | leading photon $p_{T}$ |\n",
    "| pho0_eta        | leading photon $\\eta$ |\n",
    "| pho0_phi        | leading photon $\\phi$ |\n",
    "\n",
    "Now all of these variables are not needed. In this selection we will focus on what we call \"fat jets\". The labels there given by `vjet_`. Fat jets are large cone jets that are reconstructed with a large radius $\\Delta\\theta$ to ensure that both quarks are in the cone. To isolate a single collision we also are applying the PUPPI algorithm (you can ask me about this). You should focus on the `vjet` variables for this project. "
   ]
  },
  {
   "cell_type": "code",
   "execution_count": 5,
   "metadata": {},
   "outputs": [
    {
     "data": {
      "text/plain": [
       "['sample',\n",
       " 'run',\n",
       " 'lumi',\n",
       " 'event',\n",
       " 'trigger',\n",
       " 'hltmatch',\n",
       " 'puweight',\n",
       " 'npu',\n",
       " 'npuPlusOne',\n",
       " 'npuMinusOne',\n",
       " 'nvtx',\n",
       " 'metFiltersWord',\n",
       " 'scale1fb',\n",
       " 'rho',\n",
       " 'metRaw',\n",
       " 'metRawPhi',\n",
       " 'met',\n",
       " 'metphi',\n",
       " 'tkmet',\n",
       " 'tkmetphi',\n",
       " 'mvamet',\n",
       " 'mvametphi',\n",
       " 'puppet',\n",
       " 'puppetphi',\n",
       " 'mt',\n",
       " 'rawmt',\n",
       " 'tkmt',\n",
       " 'mvamt',\n",
       " 'puppetmt',\n",
       " 'metSig',\n",
       " 'mvaMetSig',\n",
       " 'njets',\n",
       " 'nbtags',\n",
       " 'nfwd',\n",
       " 'mindphi',\n",
       " 'j0_pt',\n",
       " 'j0_eta',\n",
       " 'j0_phi',\n",
       " 'j1_pt',\n",
       " 'j1_eta',\n",
       " 'j1_phi',\n",
       " 'j2_pt',\n",
       " 'j2_eta',\n",
       " 'j2_phi',\n",
       " 'j0_mass',\n",
       " 'j0_csv',\n",
       " 'j0_qgid',\n",
       " 'j0_chf',\n",
       " 'j0_nhf',\n",
       " 'j0_emf',\n",
       " 'j0_dphi',\n",
       " 'j1_mass',\n",
       " 'j1_csv',\n",
       " 'j1_qgid',\n",
       " 'j1_chf',\n",
       " 'j1_nhf',\n",
       " 'j1_emf',\n",
       " 'j1_dphi',\n",
       " 'j2_mass',\n",
       " 'j2_csv',\n",
       " 'j2_qgid',\n",
       " 'j2_chf',\n",
       " 'j2_nhf',\n",
       " 'j2_emf',\n",
       " 'j2_dphi',\n",
       " 'dj0_pt',\n",
       " 'dj0_mass',\n",
       " 'dj0_phi',\n",
       " 'dj0_y',\n",
       " 'dj0_qgid',\n",
       " 'dj0_csv',\n",
       " 'dj0_jdphi',\n",
       " 'nvjet',\n",
       " 'vjet0_pt',\n",
       " 'vjet0_eta',\n",
       " 'vjet0_phi',\n",
       " 'vjet0_mass',\n",
       " 'vjet0_csv',\n",
       " 'vjet0_flavor',\n",
       " 'vjet0_t1',\n",
       " 'vjet0_t2',\n",
       " 'vjet0_t3',\n",
       " 'vjet0_msd0',\n",
       " 'vjet0_msd1',\n",
       " 'vjet0_mprune',\n",
       " 'vjet0_mtrim',\n",
       " 'vjet0_pullAngle',\n",
       " 'vjet0_sj1_csv',\n",
       " 'vjet0_sj2_csv',\n",
       " 'vjet0_sj1_qgid',\n",
       " 'vjet0_sj2_qgid',\n",
       " 'vjet0_sj1_q',\n",
       " 'vjet0_sj2_q',\n",
       " 'vjet0_sj1_z',\n",
       " 'vjet0_sj2_z',\n",
       " 'vjet0_iso15',\n",
       " 'vjet0_c2b0',\n",
       " 'vjet0_c2b0P2',\n",
       " 'vjet0_c2b0P5',\n",
       " 'vjet0_c2b1P0',\n",
       " 'vjet0_c2b2P0',\n",
       " 'vjet0_qjet',\n",
       " 'vjet0_trig',\n",
       " 'vjet0_genm',\n",
       " 'vjet0_genV',\n",
       " 'nmuons',\n",
       " 'mu0_pt',\n",
       " 'mu0_eta',\n",
       " 'mu0_phi',\n",
       " 'dm0_pt',\n",
       " 'dm0_mass',\n",
       " 'dm0_phi',\n",
       " 'dm0_y',\n",
       " 'nelectrons',\n",
       " 'e0_pt',\n",
       " 'e0_eta',\n",
       " 'e0_phi',\n",
       " 'ntaus',\n",
       " 'tau0_pt',\n",
       " 'tau0_eta',\n",
       " 'tau0_phi',\n",
       " 'nphotons',\n",
       " 'pho0_pt',\n",
       " 'pho0_eta',\n",
       " 'pho0_phi']"
      ]
     },
     "execution_count": 5,
     "metadata": {},
     "output_type": "execute_result"
    }
   ],
   "source": [
    "# You can view all of these variables using the `keys` option\n",
    "wqq.keys()"
   ]
  },
  {
   "cell_type": "markdown",
   "metadata": {},
   "source": [
    "## Weights of the simulated data \n",
    "\n",
    "Before we look at the simulated data, we need to understand how we weight our simulation. \n",
    "\n",
    "The weights can be written out as \n",
    "\\begin{eqnarray}\n",
    "w_{tot} & = & \\rm{total data} \\times \\frac{\\sigma}{N_{\\rm{events}}} \\times w_{PU}\n",
    "\\end{eqnarray}\n",
    "\n",
    "We apply three weights:\n",
    "* The total data is defined as the total amount data in our sample. To compute this we quote our data in units of $fb^{-1}$. This is a \"femto-barn\" where a barn is $10^{-28}m^{2}$, a volume of area (that rumour has it Enrico Fermi claimed was as big as a barn).  \n",
    " **The total luminosity collected for 8 TeV data was 18.3 $fb^{-1}$.** This translated to 18300 $pb^{-1}$ (picobarns).\n",
    "\n",
    "* Our next weight is the cross section, $\\sigma$ divided over the number of generated events. $\\sigma$ is the interaction cross section of the process. We save this ratio in units of $fb$ so that it cancels with our total data \"luminosity\". In our data files this weight is saved as `scale1fb`. *Note: In most of our data files this variable is saved in units of $pb$ so we need to multiply by an extra factor of 1000. This extra factor of 1000 does not apply for the new wqq_n and zqq_n samples.*\n",
    "\n",
    "* Lastly, we apply a pileup weight, $w_{PU}$ to match the simulated beam intensity. Pileup stands for the additional interactions between protons when two proton bunches collide at the LHC. This has an effect at modifying the simulation in a certain way. We account for this with the variable ` puweight` saved in our data files.\n",
    "\n",
    "Therefore we expect a list of weights such as the following:\n",
    "```weights=[1000*18300,\"puweight\",\"scale1fb\"]```\n",
    "where the first element of the list is a *fixed scaling number* and the *last two are variable weights* saved in our files."
   ]
  },
  {
   "cell_type": "code",
   "execution_count": 6,
   "metadata": {},
   "outputs": [
    {
     "name": "stdout",
     "output_type": "stream",
     "text": [
      "Scale wqq13: ratio:  1.6836067433254933  8 TeV integral:  14748.133987809199  13 TeV integral:  8759.844925946538\n",
      "Scale zqq13: ratio:  0.6932541250123121  8 TeV integral:  5663.988480165775  13 TeV integral:  8170.147534376638\n"
     ]
    }
   ],
   "source": [
    "# these are the standard weights\n",
    "weights=[1000*18300,\"puweight\",\"scale1fb\"]\n",
    "\n",
    "def get_weights(weights,mask,key):\n",
    "    # the first element of the list is the scaling weight\n",
    "    weight = weights[0]\n",
    "    # this needs to be divided by 1000 if the sample is wqq_n or zqq_n\n",
    "    if key=='wqq_n' or key=='zqq_n': \n",
    "        print('divide weight by 1000.')\n",
    "        weight /= 1000.\n",
    "    if key=='ggh': weight /= 1000. #maybe ggh too?\n",
    "    # now let's loop over the following weights\n",
    "    for i in range(1,len(weights)):\n",
    "        weight *= OrdDataDict[key].arrays(weights[i], library=\"np\")[weights[i]][mask]\n",
    "    return weight\n",
    "\n",
    "# For our samples with different collision energy (13 TeV) we need to perform a little hack on the cross section weight\n",
    "# so we normalize them to the number of events of the 8 TeV collision energy samples after a simple mask\n",
    "\n",
    "#This computes the integral of weighted events assuming a basic mask (see below details of this basic selection)\n",
    "def integral(iData,iWeights,iKey):\n",
    "    def selection(iData):\n",
    "        trigger = (iData.arrays('trigger', library=\"np\")[\"trigger\"].flatten() > 0) # trigger selection\n",
    "        jetpt   = (iData.arrays('vjet0_pt', library=\"np\")[\"vjet0_pt\"].flatten() > 400) # require jet pT above certain threshold\n",
    "        allcuts = np.logical_and.reduce([trigger,jetpt]) # apply both masks at the same time\n",
    "        return allcuts\n",
    "    mask_sel=selection(iData)\n",
    "    # get weights and take the integral and return it\n",
    "    weight = get_weights(iWeights,mask_sel,iKey)\n",
    "    return np.sum(weight)\n",
    "\n",
    "def scale(iData8TeV,iData13TeV,iWeights,iKey8TeV,iKey13TeV):\n",
    "    int_8TeV  = integral(iData8TeV,iWeights,iKey8TeV)\n",
    "    int_13TeV = integral(iData13TeV,iWeights,iKey13TeV)\n",
    "    print(\"Scale %s:\"%iKey13TeV,'ratio: ',int_8TeV/int_13TeV,' 8 TeV integral: ',int_8TeV,' 13 TeV integral: ',int_13TeV)\n",
    "    return int_8TeV/int_13TeV\n",
    "\n",
    "# we define this extra scaling number as:\n",
    "wscale=scale(wqq,wqq13,weights,'wqq','wqq13')\n",
    "zscale=scale(zqq,zqq13,weights,'zqq','zqq13')\n",
    "\n",
    "#w_nscale=scale(wqq,wqq_n,[18300,\"puweight\",\"scale1fb\"],'wqq','wqq_n')\n",
    "#z_nscale=scale(zqq,zqq_n,[18300,\"puweight\",\"scale1fb\"],'zqq','zqq_n')\n",
    "\n",
    "# Note: you could apply this weight function such as\n",
    "# qcd: get_weights(weights,qcd_mask,'qcd')\n",
    "# wqq_13: get_weights(weights,w_mask,'wqq_13')*wscale"
   ]
  },
  {
   "cell_type": "markdown",
   "metadata": {},
   "source": [
    "Now let's make some quick plotting functions. \n",
    "See the comments on how it works, but it should be pretty straightforward. "
   ]
  },
  {
   "cell_type": "code",
   "execution_count": 7,
   "metadata": {},
   "outputs": [],
   "source": [
    "# define some labels and colors\n",
    "labels = {'qcd': 'QCD',\n",
    "          'wqq': 'W',\n",
    "          'zqq': 'Z',\n",
    "          'wqq13': 'W (13 to 8 TeV)',\n",
    "          'zqq13': 'Z (13 to 8 TeV)',\n",
    "          'wqq_n': 'W new',\n",
    "          'zqq_n': 'Z new',\n",
    "          'tt': 'tt',\n",
    "          'ggh': 'H',\n",
    "          'zz': 'ZZ',\n",
    "          'ww': 'WW',\n",
    "          'wz': 'WZ',\n",
    "          'data': 'Data',\n",
    "         }\n",
    "colors = {'qcd': 'orange',\n",
    "          'wqq': 'royalblue',\n",
    "          'zqq': 'r',\n",
    "          'wqq13': 'cornflowerblue',\n",
    "          'zqq13': 'salmon',\n",
    "          'wqq_n': 'lightsteelblue',\n",
    "          'zqq_n': 'lightcoral',\n",
    "          'tt': 'green',\n",
    "          'ggh': 'cyan',\n",
    "          'zz': 'purple',\n",
    "          'ww': 'brown',\n",
    "          'wz': 'crimson',\n",
    "          'data': 'black',\n",
    "         }\n",
    "\n",
    "# build a plot to compare/stack histograms\n",
    "def histErr(iVar,iLabel,iBins,iMin,iMax,iSims,iMasks,iData=None,iMaskData=None,\n",
    "            iLabels=None,iColors=None,\n",
    "            iDensity=True,iStack=False,iWeights=None):\n",
    "    fig, ax = plt.subplots(1,1,figsize=(6,6),dpi=80)\n",
    "\n",
    "    # first plot the simulated data - build arrays\n",
    "    if isinstance(iSims,dict): # if iSims is a dict\n",
    "        simhists = [x.arrays(iVar, library=\"np\")[iVar][iMasks[key]] for key,x in iSims.items()] \n",
    "    else: # if it's a list\n",
    "        simhists = [iSims[i].arrays(iVar, library=\"np\")[iVar][iMasks[i]] for i in range(0,len(iSims))]\n",
    "        \n",
    "    # define labels\n",
    "    plot_labels = iLabels\n",
    "    if iLabels is None:\n",
    "        plot_labels = [labels[lk] for lk in list(iSims.keys())] #labels\n",
    "    plot_colors = iColors\n",
    "    if iColors is None:\n",
    "        plot_colors = [colors[lk] for lk in list(iSims.keys())] # colors\n",
    "    \n",
    "    # build the histogram weights\n",
    "    hist_weights = None\n",
    "    if iWeights:\n",
    "        hist_weights = [get_weights(weights,iMasks[key],key) for key in iSims.keys()]\n",
    "        if 'wqq13' in key:\n",
    "            hist_weights *= wscale\n",
    "        if 'zqq13' in key:\n",
    "            hist_weights *= zscale\n",
    "        \n",
    "    htype = 'bar'\n",
    "    if not iStack: htype='step'\n",
    "        \n",
    "    _,bins,_ = plt.hist(simhists,\n",
    "                        color=plot_colors, label=plot_labels, weights=hist_weights,\n",
    "                        range=(iMin,iMax), bins=iBins, alpha=.6, histtype=htype, \n",
    "                        density=iDensity,stacked=iStack)\n",
    "    \n",
    "    # now include the data points (if any)\n",
    "    if iData:\n",
    "        data = iData.arrays(iVar, library=\"np\")[iVar][iMaskData]\n",
    "        counts, binEdges = np.histogram(data,bins=iBins,range=(iMin,iMax),density=iDensity)\n",
    "        yerr = np.sqrt(counts) # let's apply Poisson uncertainties\n",
    "        if iDensity: yerr /= np.sqrt(sum(iMaskData)*(binEdges[1]-binEdges[0]))\n",
    "        binCenters = (binEdges[1:]+binEdges[:-1])*.5\n",
    "        plt.errorbar(binCenters, counts, yerr=yerr,fmt=\"o\",c=\"k\",label=\"Data\", ms=3)\n",
    "    \n",
    "    #if iDensity:\n",
    "    #   plt.ylim(0,0.015)\n",
    "    \n",
    "    plt.legend(prop={'size': 10})\n",
    "    plt.xlabel(iLabel)\n",
    "    if iDensity: plt.ylabel(\"Normalized Counts\") \n",
    "    else: plt.ylabel(\"Counts\")\n",
    "    plt.show()\n"
   ]
  },
  {
   "cell_type": "markdown",
   "metadata": {},
   "source": [
    "# Event Selection\n",
    "\n",
    "Let's talk about to perform the selection of events. \n",
    "\n",
    "The dataflow at the LHC is complicated, but we can simplify it to the following diagram. Here I show it for ATLAS, but for CMS its basically the same. \n",
    "\n",
    "<img src=\"images/atlas-data-flow.png\" width=\"600\"/>\n",
    "\n",
    "We will work with the right part of the plot (*ntuples*). The samples that we are using are called *ntuples*, since they have *n* variables. \n",
    "\n",
    "The top part of this diagram tells us how the data initially comes from the detector. We usually call it \"trigger and DAQ\" (DAQ = Data Acquisition). The trigger look at the features of the event **in a fast way** to see if the event is interesting. If the event is interesting we keep it. If it is not, we throw it away. \n",
    "\n",
    "*Triggers* can be quite complicated because they have to process a lot of data really fast. The first layer of the trigger takes in data at a rate of 20 MHz (With 13 TeV collisions this increased to 40 MHz). This translates to about 50 terabytes/s, which is the most amount of data in any single system. To process the data quickly, we use specialized (*FPGAs*)(Field-programmable gate arrays) to look at the data quickly and determine if it is interesting. Because we can only take a cursory look at the data, we sometimes make a mistake. This means that with the final reconstructed parameters the trigger will change. To understand how the trigger works let's plot some data.\n",
    "\n",
    "In our dataset, we have saved different trigger selections that require at least one *fat jet* with *different energy or transverse momentum*. So let's explore these trigger selections."
   ]
  },
  {
   "cell_type": "code",
   "execution_count": 8,
   "metadata": {},
   "outputs": [
    {
     "data": {
      "image/png": "[encoded data removed]",
      "text/plain": [
       "<Figure size 480x480 with 1 Axes>"
      ]
     },
     "metadata": {
      "needs_background": "light"
     },
     "output_type": "display_data"
    },
    {
     "data": {
      "image/png": "[encoded data removed]",
      "text/plain": [
       "<Figure size 480x480 with 1 Axes>"
      ]
     },
     "metadata": {
      "needs_background": "light"
     },
     "output_type": "display_data"
    }
   ],
   "source": [
    "# Let's select some data (note that trigger can only be > 0)\n",
    "\n",
    "# First let's build masks on our data - these will be boolean arrays\n",
    "alldata      = (dataDict['data'].arrays('trigger', library=\"np\")[\"trigger\"].flatten() >= -1000000)\n",
    "triggerdata1 = (dataDict['data'].arrays('trigger', library=\"np\")[\"trigger\"].flatten() % 2 > 0) #let's require the lowest trigger jet pT > 320\n",
    "triggerdata2 = (dataDict['data'].arrays('trigger', library=\"np\")[\"trigger\"].flatten() % 4 > 1) #let's require one of our standard triggers (jet pT > 370 )\n",
    "\n",
    "# Now let's make a plot of the fat jet pt  \n",
    "# normalized\n",
    "histErr('vjet0_pt','Fat jet $p_T$ [GeV]',50,300,1e3,\n",
    "        [dataDict['data'],dataDict['data'],dataDict['data']],\n",
    "        [alldata,triggerdata1,triggerdata2],\n",
    "        iLabels=['all','$p_T$>320','$p_T$>370'],\n",
    "        iColors=['black','red','blue'],\n",
    "        iDensity=True,iStack=False,iWeights=None)\n",
    "\n",
    "# and without density\n",
    "histErr('vjet0_pt','Fat jet $p_T$ [GeV]',50,300,1e3,\n",
    "        [dataDict['data'],dataDict['data'],dataDict['data']],\n",
    "        [alldata,triggerdata1,triggerdata2],\n",
    "        iLabels=['all','$p_T$>320','$p_T$>370'],\n",
    "        iColors=['black','red','blue'],\n",
    "        iDensity=False,iStack=False,iWeights=None)\n",
    "\n",
    "#So you can see as you cut tighter, you get much less jets, but the data will be cleaner (I suggest triggerdata1)"
   ]
  },
  {
   "cell_type": "markdown",
   "metadata": {},
   "source": [
    "## Mitigating background \n",
    "\n",
    "Now, we want to know how to separate our two prong signal jets from one prong background jets. There are some variables in our data that can be used to distinguish these. To make this simple, we are just going to go over the most basic ones. That way you can get a feel for how to identify two prong and one prong jets. Your challenge will be to explore how to do this. \n",
    "\n",
    "### Jet Substructure\n",
    "\n",
    "**Groomed Mass**. Jet Grooming is a very powerful tool to clean up the resolution of the mass of jet. The idea is just like how you would groom a bush. The strategy is to take a jet and remove radiative gluons off of quarks. This spurious, soft (small energy), and wide-angle radiation can effectively broaden the mass of a jet. \n",
    "\n",
    "The way that grooming is done is by iterating down and remove clusters of quarks and gluons that have low energy and are far away from the central axes of the quark/gluon. Practially speaking this removes radiation away from the original quark and gluon direction. The details of how this works has deep physical meaning, which I will not go through here. What you should take away is that this is an iterative algorithm that is approximate, not perfect, but helps. \n",
    "\n",
    "There are many grooming algorithms. The main ones that we use are trimming, pruning, filtering, and soft drop (with various beta parameters). Typically at the LHC we use soft drop with $\\beta=0$. Let's look at how it affects our background (QCD) and our W to quarks signal. "
   ]
  },
  {
   "cell_type": "code",
   "execution_count": 9,
   "metadata": {},
   "outputs": [
    {
     "name": "stdout",
     "output_type": "stream",
     "text": [
      "[0.245, 0.256, 0.347, 0.287, 0.228, ..., 0.352, 0.164, 0.687, 0.355, 0.261]\n"
     ]
    }
   ],
   "source": [
    "mask=wqq.arrays('vjet0_pt')[\"vjet0_pt\"] > 400\n",
    "tau2=wqq.arrays('vjet0_t2')[\"vjet0_t2\"][mask]\n",
    "tau1=wqq.arrays('vjet0_t1')[\"vjet0_t1\"][mask]\n",
    "print(tau1[tau2/tau1 > 0.4])\n",
    "\n",
    "#mask=wqq.arrays('vjet0_pt')[\"vjet0_pt\"] > 500\n",
    "#plt.hist(wqq.arrays('vjet0_msd0')[\"vjet0_msd0\"][maskt2t1])"
   ]
  },
  {
   "cell_type": "code",
   "execution_count": 10,
   "metadata": {},
   "outputs": [
    {
     "name": "stdout",
     "output_type": "stream",
     "text": [
      "[{sample: ..., ...}, {sample: ..., ...}, {...}, ..., {...}, {sample: ..., ...}]\n"
     ]
    },
    {
     "data": {
      "image/png": "[encoded data removed]",
      "text/plain": [
       "<Figure size 480x480 with 1 Axes>"
      ]
     },
     "metadata": {
      "needs_background": "light"
     },
     "output_type": "display_data"
    },
    {
     "data": {
      "image/png": "[encoded data removed]",
      "text/plain": [
       "<Figure size 480x480 with 1 Axes>"
      ]
     },
     "metadata": {
      "needs_background": "light"
     },
     "output_type": "display_data"
    },
    {
     "data": {
      "image/png": "[encoded data removed]",
      "text/plain": [
       "<Figure size 480x480 with 1 Axes>"
      ]
     },
     "metadata": {
      "needs_background": "light"
     },
     "output_type": "display_data"
    }
   ],
   "source": [
    "# First let's define a quick selection (a simple pT cut of 400 GeV and a 320 GeV trigger)\n",
    "def selection(iData):\n",
    "    #lets apply a trigger selection\n",
    "    trigger = (iData.arrays('trigger', library=\"np\")[\"trigger\"].flatten() > 0)\n",
    "    #Now lets require the jet pt to be above a threshold\n",
    "    jetpt   = (iData.arrays('vjet0_pt', library=\"np\")[\"vjet0_pt\"].flatten() > 400)\n",
    "    standard_trig = (iData.arrays('trigger', library=\"np\")[\"trigger\"].flatten() % 2 > 1) #lets require one of our standard triggers (jet pT > 320 )\n",
    "    # standard_trig = (iData.arrays('trigger', library=\"np\")[\"trigger\"].flatten() % 4 > 1) #lets require one of our standard triggers (jet pT > 370 )\n",
    "    allcuts = np.logical_and.reduce([trigger,jetpt])\n",
    "    return allcuts\n",
    "\n",
    "print(wqq.arrays())\n",
    "# Let's look at all the data files (except the 8 TeV W and Z samples - let's work with the 13 TeV ones)\n",
    "myDataDict = OrdDataDict.copy()\n",
    "del myDataDict['wqq_n']\n",
    "del myDataDict['zqq_n']\n",
    "del myDataDict['data']\n",
    "\n",
    "# Get masks for the selection defined above (both for simulated datasets and data)\n",
    "masks = {}\n",
    "for key in myDataDict: masks[key] = selection(myDataDict[key])\n",
    "maskData = selection(dataDict['data'])\n",
    "\n",
    "# Now let's plot the mass and the groomed mass (msd0) for the QCD background\n",
    "fig, ax = plt.subplots(1,1,figsize=(6,6),dpi=80)\n",
    "plt.hist(qcd.arrays('vjet0_mass', library=\"np\")[\"vjet0_mass\"][masks['qcd']],weights=get_weights(weights,masks['qcd'],'qcd'),\n",
    "         bins=50,range=(0,300), color='salmon',label=\"groomed mass\", alpha=.6)\n",
    "plt.hist(qcd.arrays('vjet0_msd0', library=\"np\")[\"vjet0_msd0\"][masks['qcd']], weights=get_weights(weights,masks['qcd'],'qcd'),\n",
    "         bins=50,range=(0,300), color='red',label=\"mass\", alpha=.6)\n",
    "plt.legend()\n",
    "plt.xlabel(\"QCD Jet mass [GeV]\")\n",
    "plt.ylabel(\"Counts\")\n",
    "plt.show()\n",
    "\n",
    "# Let's look at the W/Z samples now (8 TeV collision energy)\n",
    "fig, ax = plt.subplots(1,1,figsize=(6,6),dpi=80)\n",
    "plt.hist(myDataDict['wqq'].arrays('vjet0_mass', library=\"np\")[\"vjet0_mass\"][masks['wqq']],weights=get_weights(weights,masks['wqq'],'wqq'),\n",
    "         bins=50,range=(0,300), color='salmon',label=\"W groomed mass\", alpha=.6)\n",
    "plt.hist(myDataDict['wqq'].arrays('vjet0_msd0', library=\"np\")[\"vjet0_msd0\"][masks['wqq']], weights=get_weights(weights,masks['wqq'],'wqq'),\n",
    "         bins=50,range=(0,300), color='red',label=\"W mass\", alpha=.6)\n",
    "plt.hist(myDataDict['zqq'].arrays('vjet0_mass', library=\"np\")[\"vjet0_mass\"][masks['zqq']],weights=get_weights(weights,masks['zqq'],'zqq'),\n",
    "         bins=50,range=(0,300), color='pink',label=\"Z groomed mass\", alpha=.6)\n",
    "plt.hist(myDataDict['zqq'].arrays('vjet0_msd0', library=\"np\")[\"vjet0_msd0\"][masks['zqq']], weights=get_weights(weights,masks['zqq'],'zqq'),\n",
    "         bins=50,range=(0,300), color='hotpink',label=\"Z mass\", alpha=.6)\n",
    "plt.legend()\n",
    "plt.xlabel(\"Signal Jet mass [GeV]\")\n",
    "plt.ylabel(\"Counts\")\n",
    "plt.show()\n",
    "\n",
    "# Let's look at the W/Z samples now (13 TeV collision energy)\n",
    "# Note that in the weights we need to multiply by wscale\n",
    "fig, ax = plt.subplots(1,1,figsize=(6,6),dpi=80)\n",
    "plt.hist(myDataDict['wqq13'].arrays('vjet0_mass', library=\"np\")[\"vjet0_mass\"][masks['wqq13']],weights=get_weights(weights,masks['wqq13'],'wqq13')*wscale,\n",
    "         bins=50,range=(0,300), color='salmon',label=\"W groomed mass\", alpha=.6)\n",
    "plt.hist(myDataDict['wqq13'].arrays('vjet0_msd0', library=\"np\")[\"vjet0_msd0\"][masks['wqq13']], weights=get_weights(weights,masks['wqq13'],'wqq13')*wscale,\n",
    "         bins=50,range=(0,300), color='red',label=\"W mass\", alpha=.6)\n",
    "plt.hist(myDataDict['zqq13'].arrays('vjet0_mass', library=\"np\")[\"vjet0_mass\"][masks['zqq13']],weights=get_weights(weights,masks['zqq13'],'zqq13')*wscale,\n",
    "         bins=50,range=(0,300), color='pink',label=\"Z groomed mass\", alpha=.6)\n",
    "plt.hist(myDataDict['zqq13'].arrays('vjet0_msd0', library=\"np\")[\"vjet0_msd0\"][masks['zqq13']], weights=get_weights(weights,masks['zqq13'],'zqq13')*wscale,\n",
    "         bins=50,range=(0,300), color='hotpink',label=\"Z mass\", alpha=.6)\n",
    "plt.legend()\n",
    "plt.xlabel(\"Signal Jet mass [GeV]\")\n",
    "plt.ylabel(\"Counts\")\n",
    "plt.show()"
   ]
  },
  {
   "cell_type": "markdown",
   "metadata": {},
   "source": [
    "What you observe is that the mass for our qcd background goes down to much lower values, and the mass for W boson gets more narrow and approaches the mass of the W boson (80.4 GeV).  This is a great way to reduce the background and improve the sensitivity of the signal. \n",
    "\n",
    "Now lets look at another class of variables. These variables are the n-subjettiness variables. These variables were developed at MIT by Prof. Thaler and a UROP. The original paper is [here](https://arxiv.org/abs/1011.2268). Each of these variables compute the likelihood of a certain number of prongs, or the likelihood that a certain number of sub-jets exist in the shower. \n",
    "\n",
    "We write these variables as $\\tau_{i}$, with $\\tau_{1}$ being the likelihood for 1 pronged jet, $\\tau_{2}$ a two pronged and so on. To test these variables we use the ratios as a way to measure the likelihood of $N$ prongs vs $M$ prongs. To look for W and Z bosons, we look for the ratio of 2 prongs with respect to one. Hence, we consider the variable $\\tau_{2}/\\tau_{1}$. \n",
    "\n",
    "Let's now look at how this variable behaves between our signal simulation and our background. "
   ]
  },
  {
   "cell_type": "code",
   "execution_count": 11,
   "metadata": {},
   "outputs": [
    {
     "name": "stdout",
     "output_type": "stream",
     "text": [
      "2792748\n"
     ]
    },
    {
     "data": {
      "image/png": "[encoded data removed]",
      "text/plain": [
       "<Figure size 480x480 with 1 Axes>"
      ]
     },
     "metadata": {
      "needs_background": "light"
     },
     "output_type": "display_data"
    }
   ],
   "source": [
    "# Compute the t21 ratio\n",
    "# let's use the same selection set above\n",
    "# note that here we are going to use our 13 TeV signal samples\n",
    "print(len(masks[\"qcd\"]))\n",
    "\n",
    "fig, ax = plt.subplots(1,1,figsize=(6,6),dpi=80)\n",
    "qcdt21 = (qcd.arrays('vjet0_t2', library=\"np\")[\"vjet0_t2\"][masks['qcd']]/\n",
    "          qcd.arrays('vjet0_t1', library=\"np\")[\"vjet0_t1\"][masks['qcd']])\n",
    "wt21 = (wqq13.arrays('vjet0_t2', library=\"np\")[\"vjet0_t2\"][masks['wqq13']]/\n",
    "          wqq13.arrays('vjet0_t1', library=\"np\")[\"vjet0_t1\"][masks['wqq13']])\n",
    "\n",
    "plt.hist(qcdt21, weights=get_weights(weights,masks['qcd'],'qcd'),\n",
    "         bins=50, color='red',label=\"QCD\", alpha=.6, density=True)\n",
    "plt.hist(wt21, weights=get_weights(weights,masks['wqq13'],'wqq13')*wscale,\n",
    "         bins=50, color='black',label=\"W\", alpha=.6, density=True)\n",
    "plt.legend()\n",
    "plt.xlabel(r\"$\\tau_{21}$\")\n",
    "plt.ylabel(\"Normalized Counts\")\n",
    "plt.show()"
   ]
  },
  {
   "cell_type": "markdown",
   "metadata": {},
   "source": [
    "What you can see is that our two pronged signal has a lower $\\tau_{2}/\\tau_{1}$ the chance of the background is low. So by requiring $\\tau_{2}/\\tau_{1} < X$ we can isolate two pronged signals over the background. "
   ]
  },
  {
   "cell_type": "markdown",
   "metadata": {},
   "source": [
    "# Data vs Simulation\n",
    "\n",
    "Now, lets try to find the $W\\rightarrow qq$ and $Z\\rightarrow qq$ peak in the data. This is a difficult problem and you will have to use the above ideas plus a few others. To give you a hint you should read [this paper](https://arxiv.org/abs/1603.00027). Also, you should consider all of the other physics papers based on this strategy. That includes our [original paper](https://arxiv.org/abs/1705.10532) and two follow-up papers [here](https://arxiv.org/abs/1710.00159) and  [here](https://arxiv.org/abs/1909.04114). These later papers use more technology developed along the same lines, but the original paper should have all you need to get a resonance. \n",
    "\n",
    "To put it all together, we want to make a data vs simulation  plot. For this will take all of our simulations and add them together. Let's make a simple plotting example."
   ]
  },
  {
   "cell_type": "code",
   "execution_count": 12,
   "metadata": {},
   "outputs": [
    {
     "data": {
      "image/png": "[encoded data removed]",
      "text/plain": [
       "<Figure size 480x480 with 1 Axes>"
      ]
     },
     "metadata": {
      "needs_background": "light"
     },
     "output_type": "display_data"
    },
    {
     "data": {
      "image/png": "[encoded data removed]",
      "text/plain": [
       "<Figure size 480x480 with 1 Axes>"
      ]
     },
     "metadata": {
      "needs_background": "light"
     },
     "output_type": "display_data"
    }
   ],
   "source": [
    "try:\n",
    "    del myDataDict['wqq'] #let's omit 8 TeV samples from here\n",
    "    del myDataDict['zqq']\n",
    "except:\n",
    "    print('samples already deleted')\n",
    "    \n",
    "# let's compare shapes\n",
    "histErr('vjet0_msd0','Fat jet $m_{SD}$ [GeV]',50,40,200,\n",
    "        myDataDict,masks,\n",
    "        dataDict['data'],maskData,\n",
    "        iDensity=True,iStack=False,iWeights=True)\n",
    "\n",
    "# Let's do a stacked plot  of all simulation and data\n",
    "histErr('vjet0_msd0','Fat jet $m_{SD}$ [GeV]',50,40,200,\n",
    "        myDataDict,masks,\n",
    "        dataDict['data'],maskData,\n",
    "        iDensity=False,iStack=True,iWeights=True)"
   ]
  },
  {
   "cell_type": "code",
   "execution_count": null,
   "metadata": {},
   "outputs": [],
   "source": []
  }
 ],
 "metadata": {
  "kernelspec": {
   "display_name": "Python 3 (ipykernel)",
   "language": "python",
   "name": "python3"
  },
  "language_info": {
   "codemirror_mode": {
    "name": "ipython",
    "version": 3
   },
   "file_extension": ".py",
   "mimetype": "text/x-python",
   "name": "python",
   "nbconvert_exporter": "python",
   "pygments_lexer": "ipython3",
   "version": "3.11.4"
  }
 },
 "nbformat": 4,
 "nbformat_minor": 4
}
