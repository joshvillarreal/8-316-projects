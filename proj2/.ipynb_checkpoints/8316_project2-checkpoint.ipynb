{
 "cells": [
  {
   "cell_type": "markdown",
   "id": "f83a483b",
   "metadata": {},
   "source": [
    "# VQQ Lab"
   ]
  },
  {
   "cell_type": "markdown",
   "id": "463d7c17",
   "metadata": {},
   "source": [
    "\n",
    "**Author: Duc Hoang,  Philip Harris (MIT)**\n",
    "\n",
    "**Date: 9/1/2022**\n",
    "\n",
    "---"
   ]
  },
  {
   "cell_type": "code",
   "execution_count": 1,
   "id": "2524ef31",
   "metadata": {},
   "outputs": [],
   "source": [
    "# First let's import what we need for our lab first\n",
    "# uproot High energy physics python file format => https://masonproffitt.github.io/uproot-tutorial/aio.html\n",
    "import uproot\n",
    "import numpy as np\n",
    "import matplotlib.pyplot as plt\n",
    "import os,sys\n",
    "from scipy.optimize import curve_fit\n",
    "import scipy.stats as stats\n",
    "\n",
    "#plotting style for High Energy physics \n",
    "import lmfit as lm\n",
    "import mplhep as hep\n",
    "plt.style.use(hep.style.CMS)"
   ]
  },
  {
   "cell_type": "markdown",
   "id": "2d516676",
   "metadata": {},
   "source": [
    "### Loading the data"
   ]
  },
  {
   "cell_type": "markdown",
   "id": "19c8a874",
   "metadata": {},
   "source": [
    "Here is some codes to load the correct data sets!"
   ]
  },
  {
   "cell_type": "code",
   "execution_count": 2,
   "id": "534833bd",
   "metadata": {},
   "outputs": [],
   "source": [
    "# Now lets look at the data. Our data sample is the JetHT dataset. \n",
    "# What that means is the data passed triggers that have a jet in one of the triggers. (discuss below)\n",
    "data   = uproot.open(\"data/JetHT_s.root\")[\"Tree\"]\n",
    "\n",
    "# In addition to above we have Monte Carlo Simulation of many processes\n",
    "# Some of these process are well modelled in simulation and some of them are not\n",
    "#-------------------------------------------------------------------------------\n",
    "\n",
    "# Now we have our actual process qq=>W=>qq at 8TeV collision energy\n",
    "wqq    = uproot.open(\"data/WQQ_s.root\")[\"Tree\"]\n",
    "\n",
    "# Now we have our actual process qq=>Z=>qq at 8TeV collision energy\n",
    "zqq    = uproot.open(\"data/ZQQ_s.root\")[\"Tree\"] \n",
    "\n",
    "#Hint: You could check for files in the data directory by doing \"!ls data/\" in a cell.\n",
    "#The ZQQ file name is similar to WQQ\n",
    "\n",
    "# Unfortunately the samples I made above a long time ago are very small. \n",
    "# To train NNs and make nice plots we will use larger samples produced at a different collision energy\n",
    "# qq=>W=>qq at 13TeV collision energy\n",
    "wqq13  = uproot.open(\"data/skimh/WQQ_sh.root\")[\"Tree\"]\n",
    "\n",
    "# qq=>Z=>qq at 13TeV collision energy\n",
    "zqq13  = uproot.open(\"data/skimh/ZQQ_sh.root\")[\"Tree\"]\n",
    "\n",
    "# Now we have our worst modeled background this is also our main background. \n",
    "# This is is our di-jet quark and gluon background. \n",
    "# We just call these backgrounds QCD because they are produced with Quantum Chromo Dynamics. \n",
    "qcd    = uproot.open(\"data/QCD_s.root\")[\"Tree\"]\n",
    "\n",
    "# Now we have the Higgs boson sample (we might need this in the future)\n",
    "ggh    = uproot.open(\"data/ggH.root\")[\"Tree\"]\n",
    "\n",
    "# And top-quark pair production background. \n",
    "tt     = uproot.open(\"data/TT.root\")[\"Tree\"]\n",
    "\n",
    "# Finally we have the rarer double W, W+Z and Z+Z diboson samples where we have two bosons instead of one\n",
    "ww     = uproot.open(\"data/WW.root\")[\"Tree\"]\n",
    "wz     = uproot.open(\"data/WZ.root\")[\"Tree\"]\n",
    "zz     = uproot.open(\"data/ZZ.root\")[\"Tree\"]"
   ]
  },
  {
   "cell_type": "markdown",
   "id": "fc4027a2",
   "metadata": {},
   "source": [
    "## Simple helper functions"
   ]
  },
  {
   "cell_type": "markdown",
   "id": "d7c07a9b",
   "metadata": {},
   "source": [
    "After loading the data, you are provided with some simple helper functions that have already been used in our introduction notebook. These are used for pre-selection (standard cuts that physicsists usually apply before making measurements) and computing the scaling factor of datasets. You can review the previous notebook for further explanations!"
   ]
  },
  {
   "cell_type": "code",
   "execution_count": 3,
   "id": "7f1b02ea",
   "metadata": {},
   "outputs": [],
   "source": [
    "def selection(iData):\n",
    "    '''\n",
    "    Standard pre-selection\n",
    "    '''\n",
    "    #lets apply a trigger selection\n",
    "    trigger = (iData.arrays('trigger', library=\"np\")[\"trigger\"].flatten() > 0)\n",
    "\n",
    "    #Now lets require the jet pt to be above a threshold (400 TODO: ASK about units)\n",
    "    jetpt   = (iData.arrays('vjet0_pt', library=\"np\")[\"vjet0_pt\"].flatten() > 400)\n",
    "\n",
    "    #Lets apply both jetpt and trigger at the same time\n",
    "    #standard_trig = (iData.arrays('trigger', library=\"np\")[\"trigger\"].flatten() % 4 > 1) #lets require one of our standard triggers (jet pT > 370 )\n",
    "    allcuts = np.logical_and.reduce([trigger,jetpt])\n",
    "\n",
    "    return allcuts\n",
    "    \n",
    "def get_weights(iData,weights,sel):\n",
    "    \n",
    "    weight = weights[0]\n",
    "    \n",
    "    for i in range(1,len(weights)):\n",
    "        weight *= iData.arrays(weights[i],library=\"np\")[weights[i]][sel]\n",
    "        \n",
    "    return weight\n",
    "\n",
    "def integral(iData,iWeights):\n",
    "    '''\n",
    "    This computs the integral of weighted events \n",
    "    assuming a selection given by the function selection (see below)\n",
    "    '''\n",
    "    \n",
    "    #perform a selection on the data (\n",
    "    mask_sel=selection(iData)\n",
    "    \n",
    "    #now iterate over the weights not the weights are in the format of [number,variable name 1, variable name 2,...]\n",
    "    weight  =iWeights[0]\n",
    "    \n",
    "    for i0 in range(1,len(iWeights)):\n",
    "        weightarr = iData.arrays(iWeights[i0], library=\"np\")[iWeights[i0]][mask_sel].flatten()\n",
    "        \n",
    "        #multiply the weights\n",
    "        weight    = weight*weightarr\n",
    "    \n",
    "    #now take the integral and return it\n",
    "    return np.sum(weight)\n",
    "\n",
    "\n",
    "def scale(iData8TeV,iData13TeV,iWeights):\n",
    "    '''\n",
    "    This computes the integral of two selections for two datasets labelled 8TeV and 13TeV,\n",
    "    but really can be 1 and 2. Then it returns the ratio of the integrals\n",
    "    '''\n",
    "    \n",
    "    int_8TeV  = integral(iData8TeV,iWeights)\n",
    "    int_13TeV = integral(iData13TeV,iWeights)\n",
    "    \n",
    "    return int_8TeV/int_13TeV"
   ]
  },
  {
   "cell_type": "markdown",
   "id": "1e96e910",
   "metadata": {},
   "source": [
    "-----"
   ]
  },
  {
   "cell_type": "markdown",
   "id": "e5808bfc",
   "metadata": {},
   "source": [
    "# 0. Find the W Peak\n",
    "\n",
    "In this section, we provide you with some example codes to investigate the W peak. In the next section, we will ask you to fit it. First, let's make a plot of the data without any cuts. "
   ]
  },
  {
   "cell_type": "code",
   "execution_count": 4,
   "id": "2db61cb9",
   "metadata": {},
   "outputs": [
    {
     "data": {
      "image/png": "[encoded data removed]",
      "text/plain": [
       "<Figure size 432x288 with 1 Axes>"
      ]
     },
     "metadata": {
      "needs_background": "light"
     },
     "output_type": "display_data"
    },
    {
     "data": {
      "image/png": "[encoded data removed]",
      "text/plain": [
       "<Figure size 432x288 with 1 Axes>"
      ]
     },
     "metadata": {
      "needs_background": "light"
     },
     "output_type": "display_data"
    }
   ],
   "source": [
    "def plotDataSim(iVar, iSelection, iVarName, iRange):\n",
    "    \n",
    "    #Lets Look at the mass\n",
    "    weights = [1000*18300, \"puweight\", \"scale1fb\"]\n",
    "    mrange = iRange #range for mass histogram [GeV]\n",
    "    bins=40            #bins for mass histogram\n",
    "    density = False     #to plot the histograms as a density (integral=1)\n",
    "\n",
    "    qcdsel      = iSelection(qcd)\n",
    "    wsel        = iSelection(wqq13)\n",
    "    zsel        = iSelection(zqq13)\n",
    "    datasel     = iSelection(data)\n",
    "    ttsel       = iSelection(tt)\n",
    "    wwsel       = iSelection(ww)\n",
    "    wzsel       = iSelection(wz)\n",
    "    zzsel       = iSelection(zz)\n",
    "    gghsel      = iSelection(ggh)\n",
    "\n",
    "    wscale=scale(wqq,wqq13,weights)\n",
    "    zscale=scale(zqq,zqq13,weights)\n",
    "\n",
    "    # Getting the masses of selected events\n",
    "    dataW = data.arrays(iVar, library=\"np\") [iVar][datasel]\n",
    "    qcdW  = qcd.arrays(iVar, library=\"np\")  [iVar][qcdsel]\n",
    "    wW    = wqq13.arrays(iVar, library=\"np\")[iVar][wsel]\n",
    "    zW    = zqq13.arrays(iVar, library=\"np\")[iVar][zsel]\n",
    "    zzW   = zz   .arrays(iVar, library=\"np\")[iVar][zzsel]\n",
    "    wzW   = wz   .arrays(iVar, library=\"np\")[iVar][wzsel]\n",
    "    wwW   = ww   .arrays(iVar, library=\"np\")[iVar][wwsel]\n",
    "    ttW   = tt   .arrays(iVar, library=\"np\")[iVar][ttsel]\n",
    "    gghW  = ggh  .arrays(iVar, library=\"np\")[iVar][gghsel]\n",
    "\n",
    "    #Define the weights for the histograms\n",
    "    hist_weights = [get_weights(qcd,weights,qcdsel),\n",
    "                    get_weights(wqq13,weights,wsel)*wscale,\n",
    "                    get_weights(zqq13,weights,zsel)*zscale,\n",
    "                    get_weights(zz,weights,zzsel),\n",
    "                    get_weights(wz,weights,wzsel),\n",
    "                    get_weights(ww,weights,wwsel),\n",
    "                    get_weights(tt,weights,ttsel),\n",
    "                   ]\n",
    "\n",
    "    #Hint: Provide a list of selected data\n",
    "    plt.hist([qcdW,wW, zW, zzW, wzW, wwW, ttW],\n",
    "             color=[\"royalblue\",\"r\", \"orange\",\"g\", \"b\", \"purple\", \"cyan\",], \n",
    "             label=[\"QCD\", \"W\", \"Z\", \"ZZ\", \"WZ\", \"WW\", \"tt\",], \n",
    "             weights=hist_weights,\n",
    "             range=mrange, bins=50, alpha=.6, density=density,stacked=True)\n",
    "\n",
    "    #Other configurations for the histogram\n",
    "    counts, bins = np.histogram(dataW, bins=bins, range=mrange, density=density)\n",
    "    yerr = np.sqrt(counts) / np.sqrt(len(dataW)*np.diff(bins))\n",
    "    binCenters = (bins[1:]+bins[:-1])*.5\n",
    "    plt.errorbar(binCenters, counts, yerr=yerr,fmt=\"o\",c=\"k\",label=\"data\")\n",
    "    plt.legend()\n",
    "    plt.xlabel(iVarName)\n",
    "    plt.ylabel(\"Counts\")\n",
    "    plt.show()\n",
    "\n",
    "plotDataSim(\"vjet0_msd0\", selection, \"Jet Mass\", [40,200])\n",
    "plotDataSim(\"vjet0_t2\", selection, r\"$\\tau_2$\", [0,0.5]) \n",
    "#Add some code here to compare variables"
   ]
  },
  {
   "cell_type": "markdown",
   "id": "16975e8c",
   "metadata": {},
   "source": [
    "When we want to compare variables, we plot the variable, the optimal cut is often at the point where the signal and background cross. As a example look at the plot below, we see that the $\\tau_2/\\tau_1$ point cuts at around 0.5. "
   ]
  },
  {
   "cell_type": "code",
   "execution_count": 5,
   "id": "180b8365",
   "metadata": {},
   "outputs": [
    {
     "data": {
      "image/png": "[encoded data removed]",
      "text/plain": [
       "<Figure size 432x288 with 1 Axes>"
      ]
     },
     "metadata": {
      "needs_background": "light"
     },
     "output_type": "display_data"
    }
   ],
   "source": [
    "def plot_tau21():\n",
    "    \n",
    "    #Lets Look at the mass\n",
    "    weights = [1000*18300, \"puweight\", \"scale1fb\"]\n",
    "\n",
    "    qcdsel      = selection(qcd)\n",
    "    wsel        = selection(wqq13)\n",
    "\n",
    "    wscale=scale(wqq,wqq13,weights)\n",
    "\n",
    "    # Getting the masses of selected events\n",
    "    qcd_t21  = (qcd.arrays('vjet0_t2', library=\"np\")['vjet0_t2'][qcdsel]/\n",
    "               qcd.arrays('vjet0_t1', library=\"np\")['vjet0_t1'][qcdsel])\n",
    "    \n",
    "    w_t21    = (wqq13.arrays('vjet0_t2', library=\"np\")['vjet0_t2'][wsel]/\n",
    "               wqq13.arrays('vjet0_t1', library=\"np\")['vjet0_t1'][wsel])\n",
    "\n",
    "    plt.hist(qcd_t21,\n",
    "             weights=get_weights(qcd,weights,qcdsel),\n",
    "             bins=50,\n",
    "             color='red',\n",
    "             label=\"QCD\", alpha=.6, density = True)\n",
    "    \n",
    "    plt.hist(w_t21,\n",
    "             weights=get_weights(wqq13,weights,wsel)*wscale,\n",
    "             bins=50,\n",
    "             color='black',\n",
    "             label=\"W\", alpha=.6, density = True)\n",
    "\n",
    "    #Other configurations for the histogram\n",
    "    plt.legend()\n",
    "    plt.xlabel(r\"$\\tau_{2}/\\tau_{1}$\")\n",
    "    plt.ylabel(\"Counts\")\n",
    "    plt.show()\n",
    "\n",
    "plot_tau21()"
   ]
  },
  {
   "cell_type": "code",
   "execution_count": 6,
   "id": "40704996",
   "metadata": {},
   "outputs": [],
   "source": [
    "def selectionW(iData):\n",
    "    '''\n",
    "    This is the specific selection for selecting out events with W signal for our analysis\n",
    "    '''\n",
    "    \n",
    "    #Pre-selection citeria\n",
    "    trigger = (iData.arrays('trigger', library=\"np\")[\"trigger\"].flatten() >= 0)\n",
    "    jetpt   = (iData.arrays('vjet0_pt', library=\"np\")[\"vjet0_pt\"].flatten() >= 400)\n",
    "    \n",
    "    #Select the jets to compute tau2/tau1\n",
    "    jett2   = (iData.arrays('vjet0_t2', library=\"np\")[\"vjet0_t2\"].flatten())\n",
    "    jett1   = (iData.arrays('vjet0_t1', library=\"np\")[\"vjet0_t1\"].flatten())\n",
    "    \n",
    "    t21 = jett2/jett1\n",
    "                                \n",
    "    #And then perform the cut\n",
    "    #Hint: You could determine the threshold of the cut by plotting the distribution of \n",
    "    #t21ddt scores for W and background and then determine a ball park threshold\n",
    "    #where you think the W signal would be best selected\n",
    "    #Or more simply you could look at the given plot and determine the appropriate threshold.\n",
    "    \n",
    "    t21cut   = t21 < 0.5\n",
    "    \n",
    "    allcuts = np.logical_and.reduce([trigger, jetpt, t21cut])\n",
    "    \n",
    "    return allcuts"
   ]
  },
  {
   "cell_type": "code",
   "execution_count": 7,
   "id": "f3fd7363",
   "metadata": {},
   "outputs": [
    {
     "data": {
      "image/png": "[encoded data removed]",
      "text/plain": [
       "<Figure size 432x288 with 1 Axes>"
      ]
     },
     "metadata": {
      "needs_background": "light"
     },
     "output_type": "display_data"
    }
   ],
   "source": [
    "plotDataSim(\"vjet0_msd0\", selectionW, \"Jet Mass\",[40,200])"
   ]
  },
  {
   "cell_type": "markdown",
   "id": "5ce82db9",
   "metadata": {},
   "source": [
    "Looking at this plot, we can see that the W peak is not at all obvious to find! This is why we need to employ additional techniques in order to clearly identify the W peak, which is what you'll have the chance to do in the next section!"
   ]
  },
  {
   "cell_type": "markdown",
   "id": "05de8262",
   "metadata": {},
   "source": [
    "# 1. Fit for W Peak\n",
    "\n",
    "Now, lets do the lab. <font color=\"blue\"> Your first challenge is to make a mass plot and perform fitting for W signal. </font> A hint is that the plots should come out similarly to this (it doesn't have to be exactly the same), where on the left we show the soft-drop mass/groomed mass ($m_{SD}$) distribution for different processes in the Monte Carlo simulation along with the real data. The plot on the right shows the fit:\n",
    "\n",
    "<img src=\"images/S50_WFit.png\" width='900'>"
   ]
  },
  {
   "cell_type": "markdown",
   "id": "c0f8257e",
   "metadata": {},
   "source": [
    "-----"
   ]
  },
  {
   "cell_type": "markdown",
   "id": "3a697ff5",
   "metadata": {},
   "source": [
    "## 1.1 W Mass Plot"
   ]
  },
  {
   "cell_type": "markdown",
   "id": "c9930455",
   "metadata": {},
   "source": [
    "Since finding W peak is hard, we need to use another parameter, $\\rho$, which is a scaling variable for QCD jets. This parameter adds another channels of mass and $p_T$ to our selection, helping us to refine our W peak.\n",
    "\n",
    "$\\rho$ is defined in this paper:\n",
    "\n",
    "https://arxiv.org/pdf/1603.00027.pdf\n",
    "\n",
    "Your first goal is to figure out how $\\rho$ is defined by quoting the paper, and then figure out the best selections based on a combination of $\\rho$ and $\\tau_2/\\tau_1$. The final cut is based on a parameter defined as *DT* (Deccorelated Taggers) score:\n",
    "\n",
    "$$(\\tau_2/\\tau_1)_{dt} = \\tau_2/\\tau_1 - (\\text{your correlation})*\\rho$$\n",
    "\n",
    "Where the correlation **<em> your correlation </em>** is the correlation coefficient between $\\tau_2/\\tau_1$ and $\\rho$. \n",
    "\n",
    "To figure out the correlation, let's plot $\\tau_2/\\tau_1$ and $\\rho$ in the data first!"
   ]
  },
  {
   "cell_type": "code",
   "execution_count": 91,
   "id": "7346153a",
   "metadata": {},
   "outputs": [
    {
     "data": {
      "image/png": "[encoded data removed]",
      "text/plain": [
       "<Figure size 432x288 with 1 Axes>"
      ]
     },
     "metadata": {
      "needs_background": "light"
     },
     "output_type": "display_data"
    }
   ],
   "source": [
    "def plot_taus_and_rho(iData):\n",
    "    \n",
    "    jetptnocut = (iData.arrays('vjet0_pt', library=\"np\")[\"vjet0_pt\"].flatten())\n",
    "    jetmass = (iData.arrays('vjet0_msd0', library=\"np\")[\"vjet0_msd0\"].flatten())\n",
    "    jett2   = (iData.arrays('vjet0_t2', library=\"np\")[\"vjet0_t2\"].flatten())\n",
    "    jett1   = (iData.arrays('vjet0_t1', library=\"np\")[\"vjet0_t1\"].flatten())\n",
    "    \n",
    "    #Define rho according to the paper\n",
    "    rho = np.log(jetmass**2 / jetptnocut)\n",
    "    \n",
    "    #Define tau2/tau1\n",
    "    t21 = jett2 / jett1\n",
    "    \n",
    "    plt.hist2d(rho, t21, bins = 40)\n",
    "    \n",
    "    plt.xlabel(r\"$\\rho$\")\n",
    "    plt.ylabel(r\"$\\tau_2/\\tau_1$\")\n",
    "    plt.show()\n",
    "    \n",
    "plot_taus_and_rho(qcd)"
   ]
  },
  {
   "cell_type": "markdown",
   "id": "fa885cb1",
   "metadata": {},
   "source": [
    "-----"
   ]
  },
  {
   "cell_type": "markdown",
   "id": "f2434123",
   "metadata": {},
   "source": [
    "Great! Now we can fit a line on the 2D histogram to determine the correlation! Here we give you the fitting code. The codes fit by putting a threshold on the 2D histogram to selectively fit on the most relevant data points, your task for this is to play around with the threshold to determine the best fit!"
   ]
  },
  {
   "cell_type": "code",
   "execution_count": 92,
   "id": "cac7854c",
   "metadata": {},
   "outputs": [
    {
     "data": {
      "image/png": "[encoded data removed]",
      "text/plain": [
       "<Figure size 432x288 with 1 Axes>"
      ]
     },
     "metadata": {
      "needs_background": "light"
     },
     "output_type": "display_data"
    }
   ],
   "source": [
    "def fit_correlation(iData):\n",
    "    \n",
    "    jetptnocut = (iData.arrays('vjet0_pt', library=\"np\")[\"vjet0_pt\"].flatten())\n",
    "    jetmass = (iData.arrays('vjet0_msd0', library=\"np\")[\"vjet0_msd0\"].flatten())\n",
    "    jett2   = (iData.arrays('vjet0_t2', library=\"np\")[\"vjet0_t2\"].flatten())\n",
    "    jett1   = (iData.arrays('vjet0_t1', library=\"np\")[\"vjet0_t1\"].flatten())\n",
    "    \n",
    "    #Define rho according to the paper\n",
    "    rho = np.log(jetmass**2/jetptnocut)\n",
    "    \n",
    "    #Define tau2/tau1\n",
    "    t21 = jett2/jett1\n",
    "    \n",
    "    plt.hist2d(rho, t21, bins = 40)\n",
    "    plt.xlabel(r\"$\\rho$\")\n",
    "    plt.ylabel(r\"$\\tau_2/\\tau_1$\")\n",
    "    \n",
    "    #Fit the line\n",
    "    #Produce 2D histogram\n",
    "    H,xedges,yedges = np.histogram2d(rho,t21, bins=40,density = True)\n",
    "    \n",
    "    bin_centers_x = (xedges[:-1]+xedges[1:])/2.0\n",
    "    bin_centers_y = (yedges[:-1]+yedges[1:])/2.0\n",
    "    \n",
    "    #Find the non-zero indicies\n",
    "    non_zero_idx = np.argwhere(H > 0.6) #You can play around with this!\n",
    "    x_idx = non_zero_idx[:,0]\n",
    "    y_idx = non_zero_idx[:,1]\n",
    "    \n",
    "    x_coord = [bin_centers_x[x_idx[i]] for i in range(0,len(x_idx))]\n",
    "    y_coord = [bin_centers_y[y_idx[i]] for i in range(0,len(y_idx))]\n",
    "    \n",
    "    #Fit a linear model on the points plotted\n",
    "    def func(x, a, b):\n",
    "        return a * x + b\n",
    "    plt.scatter(x_coord, y_coord)\n",
    "    \n",
    "    popt, pcov = curve_fit(func, x_coord, y_coord)\n",
    "    plt.plot(bin_centers_x, func(bin_centers_x, *popt), 'r-',\n",
    "             label='fit: a=%5.3f, b=%5.3f' % tuple(popt))\n",
    "    \n",
    "    #Show the fit result\n",
    "    legend = plt.legend()\n",
    "    plt.setp(legend.get_texts(), color='w')\n",
    "    plt.show()\n",
    "    \n",
    "    return popt\n",
    "\n",
    "popt = fit_correlation(qcd)"
   ]
  },
  {
   "cell_type": "markdown",
   "id": "0b1649e0",
   "metadata": {},
   "source": [
    "Now use the correlation to define $(\\tau_2/\\tau_1)_{dt}$ and plot it with $\\rho$ to verify that we have successfully decorrelate the tagger! (you should see a straight-line distribution in the histogram)."
   ]
  },
  {
   "cell_type": "code",
   "execution_count": 94,
   "id": "c2803369",
   "metadata": {},
   "outputs": [
    {
     "data": {
      "image/png": "[encoded data removed]",
      "text/plain": [
       "<Figure size 432x288 with 1 Axes>"
      ]
     },
     "metadata": {
      "needs_background": "light"
     },
     "output_type": "display_data"
    }
   ],
   "source": [
    "def plot_tausdt_and_rho(iData):\n",
    "    \n",
    "    jetptnocut = (iData.arrays('vjet0_pt', library=\"np\")[\"vjet0_pt\"].flatten())\n",
    "    jetmass = (iData.arrays('vjet0_msd0', library=\"np\")[\"vjet0_msd0\"].flatten())\n",
    "    jett2   = (iData.arrays('vjet0_t2', library=\"np\")[\"vjet0_t2\"].flatten())\n",
    "    jett1   = (iData.arrays('vjet0_t1', library=\"np\")[\"vjet0_t1\"].flatten())\n",
    "    \n",
    "    #Define rho according to the paper\n",
    "    rho = np.log(jetmass**2/jetptnocut)\n",
    "    \n",
    "    #Define tau2/tau1\n",
    "    t21 = jett2/jett1\n",
    "    \n",
    "    #decorrelated tagger score\n",
    "    t21dt = t21 - popt[0] * rho\n",
    "    \n",
    "    plt.hist2d(rho, t21dt, bins = 40)\n",
    "    \n",
    "    plt.xlabel(r\"$\\rho$\")\n",
    "    plt.ylabel(r\"$\\tau_2/\\tau_1$_dt\")\n",
    "    plt.show()\n",
    "    \n",
    "plot_tausdt_and_rho(qcd)"
   ]
  },
  {
   "cell_type": "markdown",
   "id": "e4d331ee",
   "metadata": {},
   "source": [
    "Great! if you do it correctly, you can see that the decorrelated scores are now independent of $\\rho$! Since you figured out your decorrelation, determine the best cut for the decorrelated taggers score (maybe by plotting the distribution between qcd background and the W signal like we did above) and use it in your selection function!"
   ]
  },
  {
   "cell_type": "code",
   "execution_count": 95,
   "id": "5394dae4",
   "metadata": {},
   "outputs": [
    {
     "data": {
      "image/png": "[encoded data removed]",
      "text/plain": [
       "<Figure size 432x288 with 1 Axes>"
      ]
     },
     "metadata": {
      "needs_background": "light"
     },
     "output_type": "display_data"
    }
   ],
   "source": [
    "def plot_tau21dt():\n",
    "    #Lets Look at the mass\n",
    "    weights = [1000*18300, \"puweight\", \"scale1fb\"]\n",
    "\n",
    "    qcdsel      = selection(qcd)\n",
    "    wsel        = selection(wqq13)\n",
    "\n",
    "    wscale = scale(wqq,wqq13,weights)\n",
    "\n",
    "    # Get params\n",
    "    qcd_t21  = (qcd.arrays('vjet0_t2', library=\"np\")['vjet0_t2'][qcdsel]/\n",
    "               qcd.arrays('vjet0_t1', library=\"np\")['vjet0_t1'][qcdsel])\n",
    "    qcd_jetptnocut = (qcd.arrays('vjet0_pt', library=\"np\")[\"vjet0_pt\"][qcdsel].flatten())\n",
    "    qcd_jetmass = (qcd.arrays('vjet0_msd0', library=\"np\")[\"vjet0_msd0\"][qcdsel].flatten())\n",
    "    \n",
    "    w_t21    = (wqq13.arrays('vjet0_t2', library=\"np\")['vjet0_t2'][wsel]/\n",
    "               wqq13.arrays('vjet0_t1', library=\"np\")['vjet0_t1'][wsel])\n",
    "    w_jetptnocut = (wqq13.arrays('vjet0_pt', library=\"np\")[\"vjet0_pt\"][wsel].flatten())\n",
    "    w_jetmass = (wqq13.arrays('vjet0_msd0', library=\"np\")[\"vjet0_msd0\"][wsel].flatten())\n",
    "    \n",
    "    #Define rho according to the paper\n",
    "    qcd_rho = np.log(qcd_jetmass**2/qcd_jetptnocut)\n",
    "    w_rho = np.log(w_jetmass**2 / w_jetptnocut)\n",
    "    \n",
    "    #decorrelated tagger score\n",
    "    qcd_t21dt = qcd_t21 - popt[0] * qcd_rho\n",
    "    w_t21dt = w_t21 - popt[0] * w_rho\n",
    "    \n",
    "    plt.hist(qcd_t21dt,\n",
    "             weights=get_weights(qcd,weights,qcdsel),\n",
    "             bins=50,\n",
    "             color='red',\n",
    "             label=\"QCD\", alpha=.6, density = True)\n",
    "    \n",
    "    plt.hist(w_t21dt,\n",
    "             weights=get_weights(wqq13,weights,wsel)*wscale,\n",
    "             bins=50,\n",
    "             color='black',\n",
    "             label=\"W\", alpha=.6, density = True)\n",
    "\n",
    "    #Other configurations for the histogram\n",
    "    plt.legend()\n",
    "    plt.xlabel(r\"$(\\tau_{2}/\\tau_{1})_{dt}$\")\n",
    "    plt.ylabel(\"Counts\")\n",
    "    plt.show()\n",
    "\n",
    "plot_tau21dt()"
   ]
  },
  {
   "cell_type": "markdown",
   "id": "d86049ff",
   "metadata": {},
   "source": [
    "**Analysis**: As you can see from the plot above, having defined $\\rho$ according to (3.2) of <a href=\"https://arxiv.org/pdf/1603.00027.pdf\">1603.00027</a>, there is a clear separation between the decorrelated tagger scores for QCD backgrounds and Wqq events.\n",
    "\n",
    "To cut out as much of the QCD background as possible, while still preserving some of the statistics of the W events, I choose to implement the cut that $(\\tau_2 / \\tau_1)_{dt} < 0.5$. Having played around with less conservative cuts, I noticed that the curvefitting later in the notebook reconstructs a W resonance with a less obvious Gaussian peak centered at $m_W$."
   ]
  },
  {
   "cell_type": "code",
   "execution_count": 98,
   "id": "fdc3cb02",
   "metadata": {},
   "outputs": [],
   "source": [
    "def selectionW(iData):\n",
    "    '''\n",
    "    This is the specific selection for selecting out events with W signal for our analysis\n",
    "    '''\n",
    "    \n",
    "    #Pre-selection citeria\n",
    "    trigger = (iData.arrays('trigger', library=\"np\")[\"trigger\"].flatten() >= 0)\n",
    "    jetpt   = (iData.arrays('vjet0_pt', library=\"np\")[\"vjet0_pt\"].flatten() >= 400)\n",
    "    jetptnocut = (iData.arrays('vjet0_pt', library=\"np\")[\"vjet0_pt\"].flatten())\n",
    "    jetmass = (iData.arrays('vjet0_msd0', library=\"np\")[\"vjet0_msd0\"].flatten())\n",
    "    jett2   = (iData.arrays('vjet0_t2', library=\"np\")[\"vjet0_t2\"].flatten())\n",
    "    jett1   = (iData.arrays('vjet0_t1', library=\"np\")[\"vjet0_t1\"].flatten())\n",
    "    \n",
    "    \n",
    "    #Define the two parameters rho and tau2/tau1 \n",
    "    rho = np.log(jetmass**2/jetptnocut)\n",
    "    t21 = jett2/jett1\n",
    "    t21dt = t21 - popt[0] * rho\n",
    "                            \n",
    "    #And then perform the cut\n",
    "    #Hint: You could determine the threshold of the cut by plotting the distribution of \n",
    "    #t21ddt scores for W and background and then determine a ball park threshold\n",
    "    #where you think the W signal would be best selected\n",
    "    t21cut   = (t21dt < 0.5)\n",
    "    \n",
    "    allcuts = np.logical_and.reduce([trigger, jetpt, t21cut])\n",
    "    \n",
    "    return allcuts"
   ]
  },
  {
   "cell_type": "markdown",
   "id": "321de67e",
   "metadata": {},
   "source": [
    "-----"
   ]
  },
  {
   "cell_type": "markdown",
   "id": "6343828c",
   "metadata": {},
   "source": [
    "Now that we have our selection function, let's try to make the mass plot!"
   ]
  },
  {
   "cell_type": "code",
   "execution_count": 99,
   "id": "cb481f76",
   "metadata": {},
   "outputs": [
    {
     "name": "stderr",
     "output_type": "stream",
     "text": [
      "/var/folders/03/b5tt622d05n71qt51ysytbyc0000gq/T/ipykernel_61000/78410629.py:16: RuntimeWarning: divide by zero encountered in log\n",
      "  rho = np.log(jetmass**2/jetptnocut)\n"
     ]
    },
    {
     "data": {
      "image/png": "[encoded data removed]",
      "text/plain": [
       "<Figure size 432x288 with 1 Axes>"
      ]
     },
     "metadata": {
      "needs_background": "light"
     },
     "output_type": "display_data"
    }
   ],
   "source": [
    "#Lets Look at the mass\n",
    "weights = [1000*18300, \"puweight\", \"scale1fb\"]\n",
    "mrange = (45,200)  #range for mass histogram [GeV]\n",
    "bins=40            #bins for mass histogram\n",
    "density = True     #to plot the histograms as a density (integral=1)\n",
    "\n",
    "qcdsel      = selectionW(qcd)\n",
    "wsel        = selectionW(wqq13)\n",
    "zsel        = selectionW(zqq13)\n",
    "datasel     = selectionW(data)\n",
    "ttsel       = selectionW(tt)\n",
    "wwsel       = selectionW(ww)\n",
    "wzsel       = selectionW(wz)\n",
    "zzsel       = selectionW(zz)\n",
    "gghsel      = selectionW(ggh)\n",
    "wscale=scale(wqq,wqq13,weights)\n",
    "zscale=scale(zqq,zqq13,weights)\n",
    "\n",
    "dataW = data.arrays('vjet0_msd0', library=\"np\")[\"vjet0_msd0\"][datasel]\n",
    "qcdW = qcd.arrays('vjet0_msd0', library=\"np\")[\"vjet0_msd0\"][qcdsel]\n",
    "wW = wqq13.arrays('vjet0_msd0', library=\"np\")[\"vjet0_msd0\"][wsel]\n",
    "zW = zqq13.arrays('vjet0_msd0', library=\"np\")[\"vjet0_msd0\"][zsel]\n",
    "zzW = zz.arrays('vjet0_msd0', library=\"np\")[\"vjet0_msd0\"][zzsel]\n",
    "wzW = wz.arrays('vjet0_msd0', library=\"np\")[\"vjet0_msd0\"][wzsel]\n",
    "wwW = ww.arrays('vjet0_msd0', library=\"np\")[\"vjet0_msd0\"][wwsel]\n",
    "ttW = tt.arrays('vjet0_msd0', library=\"np\")[\"vjet0_msd0\"][ttsel]\n",
    "gghW = ggh.arrays('vjet0_msd0', library=\"np\")[\"vjet0_msd0\"][gghsel]\n",
    "\n",
    "hist_weights = [get_weights(qcd,weights,qcdsel),\n",
    "                get_weights(wqq13,weights,wsel)*wscale,\n",
    "                get_weights(zqq13,weights,zsel)*zscale,\n",
    "                get_weights(zz,weights,zzsel),\n",
    "                get_weights(wz,weights,wzsel),\n",
    "                get_weights(ww,weights,wwsel),\n",
    "                get_weights(tt,weights,ttsel),\n",
    "               ]\n",
    "\n",
    "plt.hist([qcdW,wW, zW, zzW, wzW, wwW, ttW], \n",
    "         color=[\"royalblue\",\"r\", \"orange\",\"g\", \"b\", \"purple\", \"cyan\",], \n",
    "         label=[\"QCD\", \"W\", \"Z\", \"ZZ\", \"WZ\", \"WW\", \"tt\",], \n",
    "         weights=hist_weights,\n",
    "         range=mrange, bins=50, alpha=.6, density=density,stacked=True)\n",
    "\n",
    "counts, bins = np.histogram(dataW, bins=bins, range=mrange, density=density)\n",
    "yerr = np.sqrt(counts) / np.sqrt(len(dataW)*np.diff(bins))\n",
    "binCenters = (bins[1:]+bins[:-1])*.5\n",
    "plt.errorbar(binCenters, counts, yerr=yerr,fmt=\"o\",c=\"k\",label=\"data\")\n",
    "plt.legend()\n",
    "plt.xlabel(r\"Mass [GeV]\")\n",
    "plt.ylabel(\"Normalized Counts\")\n",
    "plt.show()"
   ]
  },
  {
   "cell_type": "markdown",
   "id": "e760b03d",
   "metadata": {},
   "source": [
    "Remember to compare your mass plot with the one given above!\n",
    "\n",
    "**Analysis:** My mass plot looks pretty similar in structure to the example mass plot presented at the start of this section. There is a much more obvious peak of W events compared to the mass plot I showed in section 0, due to the decorrelated tagging score cut made in earlier parts of this section. I also see that the W peak is centered around $\\approx 80$ GeV, consistent with a W boson."
   ]
  },
  {
   "cell_type": "markdown",
   "id": "4f016c66",
   "metadata": {},
   "source": [
    "-------"
   ]
  },
  {
   "cell_type": "markdown",
   "id": "a6a69aca",
   "metadata": {},
   "source": [
    "## 1.2 W Peak Fit"
   ]
  },
  {
   "cell_type": "markdown",
   "id": "1a9df6c9",
   "metadata": {},
   "source": [
    "In this section you will perform the fit on W signal. It involves a few steps:\n",
    "    \n",
    "1. First you need to define a fit model of your own. In this case we would use some functions (gaussian, exponential) in conjuntion with a 6th order polynomial. You could see more on how the order of the polynomials are determined here: https://en.wikipedia.org/wiki/Chow_test. The concepts were also covered in Lecture 8-9 if you want to review it. Later on you will have the chance to determine the order of the polynomial for the Z fit. You might see that we might not necessarily need a 6th order polynomial for the Z fit. The main reason for this is that we have much more data in W sample than the Z sample."
   ]
  },
  {
   "cell_type": "code",
   "execution_count": 100,
   "id": "8bc6cd75",
   "metadata": {},
   "outputs": [],
   "source": [
    "def fitW(x, a0, a1, a2, a3, a4, a5, a6, amp, mu, sig):\n",
    "    '''\n",
    "    You should define other functions in conjunction with a 6th order polynomial\n",
    "    '''\n",
    "    poly = a0 + a1*x + a2*x**2 + a3*x**3 + a4*x**4 + a5*x**5 + a6*x**6\n",
    "    gauss = amp*np.exp(-0.5*(x-mu)**2/sig**2)\n",
    "    return poly + gauss"
   ]
  },
  {
   "cell_type": "markdown",
   "id": "18532c93",
   "metadata": {},
   "source": [
    "2. After defining your model, you need to get the data histogram and perform the fit:"
   ]
  },
  {
   "cell_type": "code",
   "execution_count": 101,
   "id": "b7e1278c",
   "metadata": {},
   "outputs": [
    {
     "name": "stdout",
     "output_type": "stream",
     "text": [
      "[[Model]]\n",
      "    Model(fitW)\n",
      "[[Fit Statistics]]\n",
      "    # fitting method   = leastsq\n",
      "    # function evals   = 1422\n",
      "    # data points      = 50\n",
      "    # variables        = 10\n",
      "    chi-square         = 44.8385660\n",
      "    reduced chi-square = 1.12096415\n",
      "    Akaike info crit   = 14.5522805\n",
      "    Bayesian info crit = 33.6725106\n",
      "    R-squared          = 0.99999123\n",
      "[[Variables]]\n",
      "    a0:   0.68838120 +/- 36359.0276 (5281815.91%) (init = 1000)\n",
      "    a1:  -441.136125 +/- 2720.63540 (616.73%) (init = -1000)\n",
      "    a2:   29.7425892 +/- 88.6770950 (298.15%) (init = 100)\n",
      "    a3:  -1.06725419 +/- 2.94029322 (275.50%) (init = 100)\n",
      "    a4:   0.01451471 +/- 0.04658056 (320.92%) (init = 100)\n",
      "    a5:  -8.2892e-05 +/- 2.7826e-04 (335.69%) (init = 100)\n",
      "    a6:   1.7061e-07 +/- 5.6873e-07 (333.35%) (init = 10)\n",
      "    amp:  24591.2295 +/- 228916.527 (930.89%) (init = 10)\n",
      "    mu:   82.6725172 +/- 5.66734930 (6.86%) (init = 80)\n",
      "    sig:  32.0887702 +/- 46.4566078 (144.78%) (init = 10)\n",
      "[[Correlations]] (unreported correlations are < 0.100)\n",
      "    C(a5, a6)   = -0.9995\n",
      "    C(amp, sig) = +0.9992\n",
      "    C(a4, a5)   = -0.9969\n",
      "    C(a4, a6)   = +0.9937\n",
      "    C(a0, mu)   = +0.9871\n",
      "    C(a6, amp)  = +0.9808\n",
      "    C(a5, amp)  = -0.9740\n",
      "    C(a6, sig)  = +0.9724\n",
      "    C(a3, a4)   = -0.9690\n",
      "    C(a5, sig)  = -0.9645\n",
      "    C(a4, amp)  = +0.9532\n",
      "    C(a1, a2)   = -0.9473\n",
      "    C(a3, a5)   = +0.9465\n",
      "    C(a4, sig)  = +0.9410\n",
      "    C(a3, a6)   = -0.9353\n",
      "    C(a1, a3)   = +0.8688\n",
      "    C(a3, amp)  = -0.8494\n",
      "    C(a3, sig)  = -0.8292\n",
      "    C(a1, a4)   = -0.7207\n",
      "    C(a2, mu)   = +0.7091\n",
      "    C(a2, a3)   = -0.6701\n",
      "    C(a0, sig)  = -0.6646\n",
      "    C(a1, a5)   = +0.6637\n",
      "    C(a0, a2)   = +0.6405\n",
      "    C(a1, a6)   = -0.6386\n",
      "    C(a0, amp)  = -0.6386\n",
      "    C(mu, sig)  = -0.5864\n",
      "    C(amp, mu)  = -0.5580\n",
      "    C(a0, a6)   = -0.4807\n",
      "    C(a1, amp)  = -0.4807\n",
      "    C(a2, a4)   = +0.4662\n",
      "    C(a1, mu)   = -0.4521\n",
      "    C(a0, a5)   = +0.4515\n",
      "    C(a1, sig)  = -0.4494\n",
      "    C(a2, a5)   = -0.3948\n",
      "    C(a6, mu)   = -0.3909\n",
      "    C(a0, a4)   = -0.3796\n",
      "    C(a0, a1)   = -0.3674\n",
      "    C(a2, a6)   = +0.3642\n",
      "    C(a5, mu)   = +0.3603\n",
      "    C(a4, mu)   = -0.2857\n",
      "    C(a2, amp)  = +0.1782\n",
      "    C(a2, sig)  = +0.1425\n",
      "    C(a0, a3)   = +0.1399\n"
     ]
    },
    {
     "data": {
      "text/plain": [
       "44.83856595059932"
      ]
     },
     "execution_count": 101,
     "metadata": {},
     "output_type": "execute_result"
    },
    {
     "data": {
      "text/plain": [
       "<Figure size 432x288 with 0 Axes>"
      ]
     },
     "metadata": {},
     "output_type": "display_data"
    },
    {
     "data": {
      "image/png": "[encoded data removed]",
      "text/plain": [
       "<Figure size 432x432 with 2 Axes>"
      ]
     },
     "metadata": {
      "needs_background": "light"
     },
     "output_type": "display_data"
    }
   ],
   "source": [
    "# Now we get the data histogram so we can fit it\n",
    "bins = 50\n",
    "mrange=[40,140]\n",
    "counts, bins = np.histogram(dataW,bins=bins,range=mrange,density=False)\n",
    "\n",
    "w = (1 / np.sqrt(counts)) #Poisson uncertainty here\n",
    "binCenters = (bins[1:]+bins[:-1])*.5\n",
    "x,y = binCenters.astype(\"float32\"), counts.astype(\"float32\")\n",
    "\n",
    "#Perform the fit \n",
    "model = lm.Model(fitW)\n",
    "p = model.make_params()\n",
    "\n",
    "p['a0'].set(1e3, min=0.,)\n",
    "p['a1'].set(-1e3)\n",
    "p['a2'].set(1e2)\n",
    "p['a3'].set(1e2)\n",
    "p['a4'].set(1e2)\n",
    "p['a5'].set(1e2)\n",
    "p['a6'].set(1e1)\n",
    "    \n",
    "p['amp'].set(10, min=0.)\n",
    "p['mu'].set(80, min=70., max=90.)\n",
    "p['sig'].set(10, min=0.)\n",
    "    \n",
    "#For better fit I suggest adding restrictions to the fit.\n",
    "\n",
    "result_W = model.fit(data=y,\n",
    "                   params=p,\n",
    "                   x=x,\n",
    "                   weights=w)\n",
    "\n",
    "#Plot the result\n",
    "plt.figure()\n",
    "result_W.plot()\n",
    "plt.xlabel(\"mass[GeV]\",position=(0.92,0.1))\n",
    "plt.ylabel(\"Entries/bin\",position=(0.1,0.84))\n",
    "\n",
    "#Print the fit summary\n",
    "print(result_W.fit_report())\n",
    "result_W.chisqr"
   ]
  },
  {
   "cell_type": "markdown",
   "id": "cf9aa8ec",
   "metadata": {},
   "source": [
    "Remember to compare your fit plot! Now we need to extract the W mass and the error in the measurement!"
   ]
  },
  {
   "cell_type": "code",
   "execution_count": 102,
   "id": "f8909cca",
   "metadata": {},
   "outputs": [],
   "source": [
    "mW = result_W.params[\"mu\"].value\n",
    "mWerr = result_W.params[\"mu\"].stderr"
   ]
  },
  {
   "cell_type": "code",
   "execution_count": 103,
   "id": "aa2eba0a",
   "metadata": {},
   "outputs": [
    {
     "name": "stdout",
     "output_type": "stream",
     "text": [
      "W mass: 82.67251715485487 +/- 5.66734929898679 GeV\n"
     ]
    }
   ],
   "source": [
    "print(f\"W mass: {mW} +/- {mWerr} GeV\")"
   ]
  },
  {
   "cell_type": "markdown",
   "id": "7ce797db",
   "metadata": {},
   "source": [
    "Your **W mass should be in the 80-90 GeV** range depending on the fit function of your choice!"
   ]
  },
  {
   "cell_type": "markdown",
   "id": "463bad2e",
   "metadata": {},
   "source": [
    "**Analysis**: With a reduced-$\\chi^2$ of nearly $1$, my fit is reasonable. However, there are some obvious areas of potential improvement in the fit parameter results, especially since the amplitude of the peak has a standard error that is significant in comparison to the best-fit value, but the $\\approx 6\\%$ error in the reconstruction of the peak center gives a reasonably constrianed fit of the $W$ mass.\n",
    "\n",
    "The largest improvements would be from an exploration of deep learning strategies that are able to find more complicated relationships among the event features, rather than logic-based cuts on features presented in this section."
   ]
  },
  {
   "cell_type": "markdown",
   "id": "06d54127",
   "metadata": {},
   "source": [
    "----"
   ]
  },
  {
   "cell_type": "markdown",
   "id": "27397d62",
   "metadata": {},
   "source": [
    "# 2. Fit for Z peak"
   ]
  },
  {
   "cell_type": "markdown",
   "id": "d5dd7f3d",
   "metadata": {},
   "source": [
    "**NOTE: It is not mandatory that you completely finish this section before turning your work in!**"
   ]
  },
  {
   "cell_type": "markdown",
   "id": "380de061",
   "metadata": {},
   "source": [
    "Now that you have done the W fit, the next challenge is to see whether you can also perform the Z fit! They are very similar in concepts. However, the selection for Z requires a special cut: **the deep double-b tagging score (ddb).** This is because unlike the W, Z can decays into two b quarks and hence a cut on this score would remove many W signals. \n",
    "\n",
    "The codes to perform the fit should be very similar to what we have shown you in the last section! Your plots should come out similarly to this in the end:\n",
    "\n",
    "<img src=\"images/S50_ZFit.png\" width='900'>"
   ]
  },
  {
   "cell_type": "markdown",
   "id": "a1ebee79",
   "metadata": {},
   "source": [
    "First, let's try to re-write the selection function. Remember that you now need to add the deep double b score of the jet and place a cut on it. The inividual b score in each subjet is already given in the `vjet0_sj1_csv` and `vjet0_sj2_csv` variable, how would you compute the b score of the whole jet?\n",
    "\n",
    "Another hint for placing the cut is this following table: \n",
    "\n",
    "<img src=\"images/S50_ZBtagCut.png\" width='500'>\n",
    "\n",
    "You could just ignore the labelling for the most part, the main point here is that there are three \"operating\" or \"working\" points: tight, medium, loose. Each according to specific cuts on the **individual** subjet b score. For example, a mistag rate of 0.1 would require the b score to be more than 0.9. The tight working point is also what is generally used. Using this information could you pick an appropriate threshold for the whole jet?\n",
    "\n",
    "An alternative approach to experimenting with different working points is for you to plot the distribution of the b scores of the Z signal versus W and QCD like we did in Section 0. From the histogram we could determine the appropriate cut."
   ]
  },
  {
   "cell_type": "code",
   "execution_count": 120,
   "id": "2c72a002",
   "metadata": {},
   "outputs": [
    {
     "data": {
      "image/png": "[encoded data removed]",
      "text/plain": [
       "<Figure size 432x288 with 1 Axes>"
      ]
     },
     "metadata": {
      "needs_background": "light"
     },
     "output_type": "display_data"
    }
   ],
   "source": [
    "def plot_ddb():\n",
    "    #Lets Look at the mass\n",
    "    weights = [1000*18300, \"puweight\", \"scale1fb\"]\n",
    "\n",
    "    zqq13sel      = selection(zqq13)\n",
    "    wsel        = selection(wqq13)\n",
    "\n",
    "    wscale = scale(wqq,wqq13,weights)\n",
    "\n",
    "    # Get params\n",
    "    z_jetcsvsj1 = (zqq13.arrays('vjet0_sj1_csv', library=\"np\")[\"vjet0_sj1_csv\"][zqq13sel].flatten())\n",
    "    z_jetcsvsj2 = (zqq13.arrays('vjet0_sj2_csv', library=\"np\")[\"vjet0_sj2_csv\"][zqq13sel].flatten())\n",
    "    \n",
    "    w_jetcsvsj1 = (wqq13.arrays('vjet0_sj1_csv', library=\"np\")[\"vjet0_sj1_csv\"][wsel].flatten())\n",
    "    w_jetcsvsj2 = (wqq13.arrays('vjet0_sj2_csv', library=\"np\")[\"vjet0_sj2_csv\"][wsel].flatten())\n",
    "    \n",
    "    # get bb scores\n",
    "    z_ddb = z_jetcsvsj1 + z_jetcsvsj2\n",
    "    w_ddb = w_jetcsvsj1 + w_jetcsvsj2\n",
    "    \n",
    "    plt.hist(z_ddb,\n",
    "             weights=get_weights(zqq13,weights,zqq13sel),\n",
    "             bins=np.linspace(0, 2, 50),\n",
    "             color='red',\n",
    "             label=\"Z\", alpha=.6, density = True)\n",
    "    \n",
    "    plt.hist(w_ddb,\n",
    "             weights=get_weights(wqq13,weights,wsel)*wscale,\n",
    "             bins=np.linspace(0, 2, 50),\n",
    "             color='black',\n",
    "             label=\"W\", alpha=.6, density = True)\n",
    "\n",
    "    #Other configurations for the histogram\n",
    "    plt.legend()\n",
    "    plt.xlabel(r\"BB score\")\n",
    "    plt.ylabel(\"Counts\")\n",
    "    plt.show()\n",
    "\n",
    "plot_ddb()"
   ]
  },
  {
   "cell_type": "markdown",
   "id": "b7cbd4fb",
   "metadata": {},
   "source": [
    "**Commentary:** Knowing that the `vjet0_sj1_csv` and `vjet0_sj2_csv` score a jet of being b-like, an effective score to identify bb events is the sum of the two scores. I would expect $Z$ events producing two $b$-jets to have a score that is very close to 2, and this is reflected in the plot above -- there is (a barely visible) heavy tail for the $Z$ events at large values of BB score, so a cut that I make to preserve $Z$ statistics while still cutting out most of the $W$ background is to set the bb score to be >1.75."
   ]
  },
  {
   "cell_type": "code",
   "execution_count": 121,
   "id": "932e70bb",
   "metadata": {},
   "outputs": [],
   "source": [
    "# Let's define a selection that will keep Z jets and remove background.\n",
    "def selectionZ(iData):    \n",
    "    #Standard preselection\n",
    "    trigger = (iData.arrays('trigger', library=\"np\")[\"trigger\"].flatten() >= 0)\n",
    "\n",
    "    #Now lets require the jet pt to be above a threshold\n",
    "    jetpt   = (iData.arrays('vjet0_pt', library=\"np\")[\"vjet0_pt\"].flatten() >= 400)\n",
    "    jetmass = (iData.arrays('vjet0_msd0', library=\"np\")[\"vjet0_msd0\"].flatten())\n",
    "    jett2   = (iData.arrays('vjet0_t2', library=\"np\")[\"vjet0_t2\"].flatten())\n",
    "    jett1   = (iData.arrays('vjet0_t1', library=\"np\")[\"vjet0_t1\"].flatten())\n",
    "    jetptnocut = (iData.arrays('vjet0_pt', library=\"np\")[\"vjet0_pt\"].flatten())\n",
    "    jetcsvsj1  = (iData.arrays('vjet0_sj1_csv', library=\"np\")[\"vjet0_sj1_csv\"].flatten())\n",
    "    jetcsvsj2  = (iData.arrays('vjet0_sj2_csv', library=\"np\")[\"vjet0_sj2_csv\"].flatten())\n",
    "\n",
    "    # Following the same procedure as https://arxiv.org/pdf/1603.00027.pdf\n",
    "    # we select 2 progned jets (since W and Z primarily decay to 2 quarks)\n",
    "    # we correct t21 to minimize the dependance on m and pt\n",
    "    rho = np.log(jetmass**2/jetptnocut)\n",
    "    t21 = jett2/jett1\n",
    "    t21dt = t21 - popt[0] * rho\n",
    "\n",
    "    t21cut = t21dt < 0.7\n",
    "\n",
    "    # this cut keeps jets with subjet 1 and subjet 2 coming from a secondary vertex\n",
    "    # i.e. the subjets originate from a displaced particle (namely a b quark)\n",
    "    # Unlike W bosons, the Z can decay into 2 b quarks which is why this selection removes \n",
    "    # many W jets.\n",
    "\n",
    "    ddb = jetcsvsj1 + jetcsvsj2\n",
    "    ddbcut = ddb > 1.75\n",
    "\n",
    "    allcuts = np.logical_and.reduce([trigger,jetpt, t21cut, ddbcut])\n",
    "\n",
    "    return allcuts"
   ]
  },
  {
   "cell_type": "markdown",
   "id": "545576e1",
   "metadata": {},
   "source": [
    "Similar to the W, let's try to make the mass plot first to see if we get the correct mass plot:"
   ]
  },
  {
   "cell_type": "markdown",
   "id": "a1f17537",
   "metadata": {},
   "source": [
    "## 2.1 Z mass plot"
   ]
  },
  {
   "cell_type": "markdown",
   "id": "d9d70926",
   "metadata": {},
   "source": [
    "We can basically just reused what we had in the last section"
   ]
  },
  {
   "cell_type": "code",
   "execution_count": 122,
   "id": "5cc8dc93",
   "metadata": {},
   "outputs": [
    {
     "name": "stderr",
     "output_type": "stream",
     "text": [
      "/var/folders/03/b5tt622d05n71qt51ysytbyc0000gq/T/ipykernel_61000/2663145633.py:18: RuntimeWarning: divide by zero encountered in log\n",
      "  rho = np.log(jetmass**2/jetptnocut)\n"
     ]
    },
    {
     "data": {
      "image/png": "[encoded data removed]",
      "text/plain": [
       "<Figure size 432x288 with 1 Axes>"
      ]
     },
     "metadata": {
      "needs_background": "light"
     },
     "output_type": "display_data"
    }
   ],
   "source": [
    "# Some default parameters\n",
    "weights=[1000*18300,\"puweight\",\"scale1fb\"]\n",
    "mrange = (50,200) #range for mass histogram [GeV]\n",
    "bins=50           #bins for mass histogram\n",
    "density = True    #to plot the histograms as a density (integral=1)\n",
    "\n",
    "# Selecting data and MC \n",
    "qcdsel      = selectionZ(qcd)\n",
    "wsel        = selectionZ(wqq13)\n",
    "zsel        = selectionZ(zqq13)\n",
    "datasel     = selectionZ(data)\n",
    "ttsel       = selectionZ(tt)\n",
    "wwsel       = selectionZ(ww)\n",
    "wzsel       = selectionZ(wz)\n",
    "zzsel       = selectionZ(zz)\n",
    "gghsel      = selectionZ(ggh)\n",
    "\n",
    "wscale=scale(wqq,wqq13,weights)\n",
    "zscale=scale(zqq,zqq13,weights)\n",
    "\n",
    "# Getting the masses of selected events\n",
    "datat21 = data.arrays('vjet0_msd0', library=\"np\")[\"vjet0_msd0\"][datasel]\n",
    "qcdt21 = qcd.arrays('vjet0_msd0', library=\"np\")[\"vjet0_msd0\"][qcdsel]\n",
    "wt21 = wqq13.arrays('vjet0_msd0', library=\"np\")[\"vjet0_msd0\"][wsel]\n",
    "zt21 = zqq13.arrays('vjet0_msd0', library=\"np\")[\"vjet0_msd0\"][zsel]\n",
    "zzt21 = zz.arrays('vjet0_msd0', library=\"np\")[\"vjet0_msd0\"][zzsel]\n",
    "wzt21 = wz.arrays('vjet0_msd0', library=\"np\")[\"vjet0_msd0\"][wzsel]\n",
    "wwt21 = ww.arrays('vjet0_msd0', library=\"np\")[\"vjet0_msd0\"][wwsel]\n",
    "ttt21 = tt.arrays('vjet0_msd0', library=\"np\")[\"vjet0_msd0\"][ttsel]\n",
    "gght21 = ggh.arrays('vjet0_msd0', library=\"np\")[\"vjet0_msd0\"][gghsel]\n",
    "\n",
    "# Proper weights for each histogram\n",
    "hist_weights = [get_weights(qcd,weights,qcdsel),\n",
    "                get_weights(wqq13,weights,wsel)*wscale,\n",
    "                get_weights(zqq13,weights,zsel)*zscale,\n",
    "                get_weights(zz,weights,zzsel),\n",
    "                get_weights(wz,weights,wzsel),\n",
    "                get_weights(ww,weights,wwsel),\n",
    "                get_weights(tt,weights,ttsel),\n",
    "               ]\n",
    "\n",
    "# Plot stacked histograms\n",
    "plt.hist([qcdt21,wt21, zt21, zzt21, wzt21, wwt21, ttt21], \n",
    "         color=[\"royalblue\",\"r\", \"orange\",\"g\", \"b\", \"purple\", \"cyan\"], \n",
    "         label=[\"QCD\", \"W\", \"Z\", \"ZZ\", \"WZ\", \"WW\", \"tt\"], \n",
    "         weights=hist_weights,\n",
    "         range=mrange, bins=50, alpha=.6, density=density,stacked=True)\n",
    "counts, bins = np.histogram(datat21,bins=bins,range=mrange,density=density)\n",
    "\n",
    "# Getting the proper err requires normalizing since we are using a density not the actual count\n",
    "yerr = np.sqrt(counts) / np.sqrt(len(datat21)*(np.diff(bins))) \n",
    "binCenters = (bins[1:]+bins[:-1])*.5\n",
    "plt.errorbar(binCenters, counts, yerr=yerr,fmt=\"o\",c=\"k\",label=\"data\")\n",
    "plt.legend()\n",
    "plt.xlabel(r\"Mass [GeV]\")\n",
    "plt.ylabel(\"Normalized Counts\")\n",
    "plt.show()"
   ]
  },
  {
   "cell_type": "markdown",
   "id": "9ae020df",
   "metadata": {},
   "source": [
    "Make sure to compare your mass plot with the plot given above!\n",
    "\n",
    "**Analysis:** There is an obvious excess of $Z$-like events around the mass region $90$ GeV. The BB-score cut seemed to work a little bit!"
   ]
  },
  {
   "cell_type": "markdown",
   "id": "d5b3fe7a",
   "metadata": {},
   "source": [
    "## 2.1 Fit for Z peak"
   ]
  },
  {
   "cell_type": "markdown",
   "id": "ddfbbf4b",
   "metadata": {},
   "source": [
    "Now, adapting the codes provided for you in the W section, perform a fit to the Z peak and extract its mass! The concept is similar to our previous W fit, but this time I would let you explore what fit function would be appropriate in this case."
   ]
  },
  {
   "cell_type": "markdown",
   "id": "2f6dab25",
   "metadata": {},
   "source": [
    "**Answer:** Given that we are working with much fewer statistics than in the $W$-boson search, I reduce the order of the polynomial by one so that we do not introduce too many DOFs."
   ]
  },
  {
   "cell_type": "code",
   "execution_count": 129,
   "id": "4e0c8907",
   "metadata": {},
   "outputs": [],
   "source": [
    "def fitZ(x, p0, p1, p2, p3, p4, p5, a, mu, sigma):\n",
    "    poly = p0 + p1*x + p2*x**2 + p3*x**3 + p4*x**4 + p5*x**5\n",
    "    gauss = a*np.exp(-0.5*(x-mu)**2/sigma**2)\n",
    "    return poly + gauss"
   ]
  },
  {
   "cell_type": "markdown",
   "id": "176ca753",
   "metadata": {},
   "source": [
    "----"
   ]
  },
  {
   "cell_type": "markdown",
   "id": "e2cd2ec7",
   "metadata": {},
   "source": [
    "Then, get the data histogram and perform the fit"
   ]
  },
  {
   "cell_type": "code",
   "execution_count": 130,
   "id": "317eb75f",
   "metadata": {},
   "outputs": [
    {
     "name": "stdout",
     "output_type": "stream",
     "text": [
      "[[Model]]\n",
      "    Model(fitZ)\n",
      "[[Fit Statistics]]\n",
      "    # fitting method   = leastsq\n",
      "    # function evals   = 71\n",
      "    # data points      = 40\n",
      "    # variables        = 9\n",
      "    chi-square         = 26.3031351\n",
      "    reduced chi-square = 0.84848823\n",
      "    Akaike info crit   = 1.23234736\n",
      "    Bayesian info crit = 16.4322624\n",
      "    R-squared          = 0.99996797\n",
      "[[Variables]]\n",
      "    p0:     3360.68027 +/- 383.029628 (11.40%) (init = 10)\n",
      "    p1:    -105.090738 +/- 16.3903861 (15.60%) (init = 50)\n",
      "    p2:     1.39419805 +/- 0.26703253 (19.15%) (init = 0)\n",
      "    p3:    -0.00943044 +/- 0.00209001 (22.16%) (init = 50)\n",
      "    p4:     3.1847e-05 +/- 7.9093e-06 (24.83%) (init = 0)\n",
      "    p5:    -4.2568e-08 +/- 1.1633e-08 (27.33%) (init = 0)\n",
      "    a:      53.0241796 +/- 13.0066548 (24.53%) (init = 0)\n",
      "    mu:     91.0958446 +/- 0.90811674 (1.00%) (init = 90)\n",
      "    sigma:  3.41788639 +/- 0.99361265 (29.07%) (init = 5)\n",
      "[[Correlations]] (unreported correlations are < 0.100)\n",
      "    C(p4, p5)    = -0.9981\n",
      "    C(p3, p4)    = -0.9977\n",
      "    C(p2, p3)    = -0.9972\n",
      "    C(p1, p2)    = -0.9967\n",
      "    C(p0, p1)    = -0.9962\n",
      "    C(p3, p5)    = +0.9918\n",
      "    C(p2, p4)    = +0.9900\n",
      "    C(p1, p3)    = +0.9881\n",
      "    C(p0, p2)    = +0.9861\n",
      "    C(p2, p5)    = -0.9798\n",
      "    C(p1, p4)    = -0.9757\n",
      "    C(p0, p3)    = -0.9716\n",
      "    C(p1, p5)    = +0.9611\n",
      "    C(p0, p4)    = +0.9544\n",
      "    C(p0, p5)    = -0.9357\n",
      "    C(a, sigma)  = -0.3903\n",
      "    C(p0, sigma) = +0.2491\n",
      "    C(p1, sigma) = -0.2356\n",
      "    C(p2, sigma) = +0.2159\n",
      "    C(p3, sigma) = -0.1952\n",
      "    C(p4, sigma) = +0.1755\n",
      "    C(p5, sigma) = -0.1577\n",
      "    C(p0, a)     = +0.1494\n",
      "    C(mu, sigma) = -0.1417\n",
      "    C(p1, a)     = -0.1411\n",
      "    C(p2, a)     = +0.1294\n",
      "    C(p3, mu)    = +0.1282\n",
      "    C(p2, mu)    = -0.1281\n",
      "    C(p4, mu)    = -0.1271\n",
      "    C(p1, mu)    = +0.1261\n",
      "    C(p5, mu)    = +0.1252\n",
      "    C(p0, mu)    = -0.1213\n",
      "    C(p3, a)     = -0.1172\n",
      "    C(p4, a)     = +0.1056\n"
     ]
    },
    {
     "data": {
      "text/plain": [
       "<Figure size 432x288 with 0 Axes>"
      ]
     },
     "metadata": {},
     "output_type": "display_data"
    },
    {
     "data": {
      "image/png": "[encoded data removed]",
      "text/plain": [
       "<Figure size 432x432 with 2 Axes>"
      ]
     },
     "metadata": {
      "needs_background": "light"
     },
     "output_type": "display_data"
    }
   ],
   "source": [
    "# Now we get the data histogram so we can fit it\n",
    "counts, bins = np.histogram(datat21,\n",
    "                            bins=40,\n",
    "                            range=mrange)\n",
    "\n",
    "w = 1/np.sqrt(counts)\n",
    "binCenters = (bins[1:]+bins[:-1])*.5\n",
    "x,y = binCenters.astype(\"float32\"), counts.astype(\"float32\")\n",
    "\n",
    "#Perform the fit\n",
    "model = lm.Model(fitZ)\n",
    "p = model.make_params(p0=10,\n",
    "                      p1=50,\n",
    "                      p2=0,\n",
    "                      p3=50,\n",
    "                      p4=0,\n",
    "                      p5=0,\n",
    "                      a=0,\n",
    "                      mu=90,\n",
    "                      sigma=5)\n",
    "\n",
    "result_Z = model.fit(data=y,\n",
    "                     params=p,\n",
    "                     x=x,\n",
    "                     weights=w)\n",
    "\n",
    "#Plottting\n",
    "plt.figure()\n",
    "result_Z.plot()\n",
    "plt.xlabel(\"mass[GeV]\", position=(0.92,0.1))\n",
    "plt.ylabel(\"Entries/bin\", position=(0.1,0.84))\n",
    "\n",
    "#We could also check out all the fit parameters\n",
    "print(result_Z.fit_report())"
   ]
  },
  {
   "cell_type": "markdown",
   "id": "433a0425",
   "metadata": {},
   "source": [
    "After the fit we can extract the Z mass and the error in our measurement"
   ]
  },
  {
   "cell_type": "code",
   "execution_count": 131,
   "id": "5b0af359",
   "metadata": {},
   "outputs": [],
   "source": [
    "mZ = result_Z.params[\"mu\"].value\n",
    "mZerr = result_Z.params[\"mu\"].stderr"
   ]
  },
  {
   "cell_type": "code",
   "execution_count": 132,
   "id": "51c529c0",
   "metadata": {},
   "outputs": [
    {
     "name": "stdout",
     "output_type": "stream",
     "text": [
      "Z mass: 91.09584463194017 +/- 0.9081167382763757\n"
     ]
    }
   ],
   "source": [
    "print(f\"Z mass: {mZ} +/- {mZerr}\")"
   ]
  },
  {
   "cell_type": "markdown",
   "id": "3659d335",
   "metadata": {},
   "source": [
    "Note that the Z mass should be around **91 GeV**.\n",
    "\n",
    "**Analysis**: In this case, I observe a reduced-$\\chi^2$ below 1, indicating that the peak-finder worked successfully. The reasonable errors on each of the parameters observed reflect the fact that the fit converged to something reasonable, and the low error on the $Z$-mass reflect a reasonable mass result."
   ]
  },
  {
   "cell_type": "markdown",
   "id": "be7fd0ad",
   "metadata": {},
   "source": [
    "-----"
   ]
  },
  {
   "cell_type": "markdown",
   "id": "8be21723",
   "metadata": {},
   "source": [
    "# 3. Weak mixing angle (OPTIONAL)"
   ]
  },
  {
   "cell_type": "markdown",
   "id": "27ddf1db",
   "metadata": {},
   "source": [
    "If you have both W and Z boson, you can measure a fundamental parameter of the standard model. The Weak mixing angle, sometimes referred to as the Weinberg angle. \n",
    "\n",
    "<font color=\"blue\"> From your measurement of the W and Z boson mass come up with a measurement of the W and Z boson mixing angle.  </font>\n",
    "\n",
    "we have that $\\sin^2\\theta_w = 1 - (\\frac{m_W}{m_Z})^2$ which was measured to be about 0.231. Using the masses we measured and propagating the error gives "
   ]
  },
  {
   "cell_type": "code",
   "execution_count": 134,
   "id": "89786de9",
   "metadata": {},
   "outputs": [
    {
     "name": "stdout",
     "output_type": "stream",
     "text": [
      "sin^2(θ) = 0.176 +\\- 0.114\n"
     ]
    }
   ],
   "source": [
    "sin2theta = 1 - (mW/mZ)**2\n",
    "sin2theta_err = np.sqrt(\n",
    "    mWerr**2 * (2*mW/mZ**2)**2 + mZerr**2 * (2*mW**2/mZ**3)**2\n",
    ")\n",
    "\n",
    "print(f\"sin^2(θ) = {sin2theta:.3f} +\\- {sin2theta_err:.3f}\")"
   ]
  },
  {
   "cell_type": "markdown",
   "id": "9ef89b57",
   "metadata": {},
   "source": [
    "**Answer:** We have:\n",
    "\n",
    "$$ \\sigma_{\\sin^2 \\theta_W}^2 = \\sigma_{m_W}^2 \\frac{\\partial \\sin^2 \\theta_W}{\\partial m_W}^2 + \\sigma_{m_Z}^2 \\frac{\\partial \\sin^2 \\theta_W}{\\partial m_Z}^2 $$\n",
    "\n",
    "Where $\\partial_{m_W} \\sin^2 \\theta_W = - 2 m_W / m_Z^2$ and $\\partial_{m_Z} \\sin^2 \\theta_W = 2 m_W^2 / m_Z^3$."
   ]
  },
  {
   "cell_type": "markdown",
   "id": "dac86ec5",
   "metadata": {},
   "source": [
    "Hmm... It looks like our measurement is pretty bad.  The reason for this is that we overestimated the mass of the W boson because many of the \"signal\" events selected contain a Z boson which has higher mass. Because we can't easily find a selection that removes Z jets and keeps W jets we will resort to making a correction from the Monte Carlo (MC). Since we have control over what samples go into the MC we can actually do our fit with and without Z jets to see how biased our procedure is. Then we can correct for this bias approriately."
   ]
  },
  {
   "cell_type": "markdown",
   "id": "1dc1939f",
   "metadata": {},
   "source": [
    "-----"
   ]
  },
  {
   "cell_type": "markdown",
   "id": "81b544ae",
   "metadata": {},
   "source": [
    "# 4. Correcting $m_W$   ( OPTIONAL)"
   ]
  },
  {
   "cell_type": "markdown",
   "id": "c50d2cec",
   "metadata": {},
   "source": [
    "First we need to perform the selection for W again"
   ]
  },
  {
   "cell_type": "code",
   "execution_count": null,
   "id": "7632673e",
   "metadata": {},
   "outputs": [],
   "source": [
    "#Lets Look at the mass\n",
    "weights = [1000*18300, \"puweight\", \"scale1fb\"]\n",
    "mrange = (45,200)  #range for mass histogram [GeV]\n",
    "bins=40            #bins for mass histogram\n",
    "density = True     #to plot the histograms as a density (integral=1)\n",
    "\n",
    "qcdsel      = selectionW(qcd)\n",
    "wsel        = selectionW(wqq13)\n",
    "zsel        = selectionW(zqq13)\n",
    "datasel     = selectionW(data)\n",
    "ttsel       = selectionW(tt)\n",
    "wwsel       = selectionW(ww)\n",
    "wzsel       = selectionW(wz)\n",
    "zzsel       = selectionW(zz)\n",
    "gghsel      = selectionW(ggh)\n",
    "wscale=scale(wqq,wqq13,weights)\n",
    "zscale=scale(zqq,zqq13,weights)\n",
    "\n",
    "dataW = data.arrays('vjet0_msd0', library=\"np\")[\"vjet0_msd0\"][datasel]\n",
    "qcdW = qcd.arrays('vjet0_msd0', library=\"np\")[\"vjet0_msd0\"][qcdsel]\n",
    "wW = wqq13.arrays('vjet0_msd0', library=\"np\")[\"vjet0_msd0\"][wsel]\n",
    "zW = zqq13.arrays('vjet0_msd0', library=\"np\")[\"vjet0_msd0\"][zsel]\n",
    "zzW = zz.arrays('vjet0_msd0', library=\"np\")[\"vjet0_msd0\"][zzsel]\n",
    "wzW = wz.arrays('vjet0_msd0', library=\"np\")[\"vjet0_msd0\"][wzsel]\n",
    "wwW = ww.arrays('vjet0_msd0', library=\"np\")[\"vjet0_msd0\"][wwsel]\n",
    "ttW = tt.arrays('vjet0_msd0', library=\"np\")[\"vjet0_msd0\"][ttsel]\n",
    "gghW = ggh.arrays('vjet0_msd0', library=\"np\")[\"vjet0_msd0\"][gghsel]"
   ]
  },
  {
   "cell_type": "markdown",
   "id": "d1db7577",
   "metadata": {},
   "source": [
    "After that we could evaluate the MC simulation in two cases:\n",
    "\n",
    "1. MC with Z\n",
    "2. MC without Z\n",
    "\n",
    "And then based on the fit of these two samples, we could evaluate the ratio of the fitted W mass and determine the bias factor, which can then be used to correct the W mass!\n",
    "\n",
    "In this lab we can perform a simple procedure to determine the bias by plotting the MC distribution of the W mass with selection. After that, we could take the mean and standard deviation with and without the Z to feed into our bias calculation! A more advanced approach would be to perform the whole W fit again with QCD MC. However, the fit is rather hard to control (getting a good $\\chi^2$ is hard). Therefore, for the purposes of this course, we would resort to a simpler verion first!"
   ]
  },
  {
   "cell_type": "code",
   "execution_count": null,
   "id": "1c0cf1f4",
   "metadata": {},
   "outputs": [],
   "source": [
    "bins=50\n",
    "\n",
    "# We need the weights from our MC\n",
    "wweights = get_weights(wqq13,weights,wsel)*wscale\n",
    "zweights = get_weights(zqq13,weights,zsel)*zscale\n",
    "\n",
    "mrange = [50,150]\n",
    "\n",
    "# Now we stack the histograms into a single density \n",
    "counts_mc, bins,_ = plt.hist([wW,zW],bins=bins,range=mrange,\n",
    "                             density=False,stacked=True,\n",
    "                             color=[\"r\", \"orange\"],\n",
    "                             alpha=.6,\n",
    "                             weights= [wweights, zweights])\n",
    "\n",
    "\n",
    "binCenters = (bins[1:]+bins[:-1])*.5\n",
    "plt.show()\n",
    "\n",
    "mW_mc_withZ = np.average(binCenters, weights=counts_mc[-1])\n",
    "mWerr_mc_withZ = ### YOUR CODE HERE ###\n",
    "\n",
    "mW_mc_noZ = np.average(binCenters,weights=counts_mc[0])\n",
    "mWerr_mc_noZ = ### YOUR CODE HERE ###\n",
    "\n",
    "print(\"W mass with Z: {}. W mass without Z: {}\".format(mW_mc_withZ, mW_mc_noZ))\n",
    "print(\"W mass (standard deviation) with Z: {}. W mass (standard deviation) without Z: {}\".format(mWerr_mc_withZ, mWerr_mc_noZ))"
   ]
  },
  {
   "cell_type": "markdown",
   "id": "85bfe411",
   "metadata": {},
   "source": [
    "Then we can obtain the mass with no Z in the sample:"
   ]
  },
  {
   "cell_type": "markdown",
   "id": "f3d6097f",
   "metadata": {},
   "source": [
    "## 4.3 Bias factor and correct for W mass"
   ]
  },
  {
   "cell_type": "markdown",
   "id": "57bf8f04",
   "metadata": {},
   "source": [
    "Now that we obtain the W mass in both cases, let's correct for the W mass!"
   ]
  },
  {
   "cell_type": "code",
   "execution_count": null,
   "id": "d2253ddf",
   "metadata": {},
   "outputs": [],
   "source": [
    "# now we calculate our bias factor\n",
    "# if the W mass measured with and without Z is the same \n",
    "# this factor should be 1\n",
    "bias = mW_mc_withZ / mW_mc_noZ\n",
    "\n",
    "#propagate the error assuming uncorrelated gaussian uncertainties\n",
    "bias_err = ### YOUR CODE HERE ###"
   ]
  },
  {
   "cell_type": "markdown",
   "id": "519d20f1",
   "metadata": {},
   "source": [
    "-----"
   ]
  },
  {
   "cell_type": "code",
   "execution_count": null,
   "id": "82fae11e",
   "metadata": {},
   "outputs": [],
   "source": [
    "mW_corrected = mW/bias\n",
    "mWerr_corrected = ### YOUR CODE HERE ###"
   ]
  },
  {
   "cell_type": "markdown",
   "id": "4424f2fd",
   "metadata": {},
   "source": [
    "-----"
   ]
  },
  {
   "cell_type": "code",
   "execution_count": null,
   "id": "4f761408",
   "metadata": {
    "scrolled": false
   },
   "outputs": [],
   "source": [
    "print(f\"Correcting the W mass using MC (simulated data) gives m_W = {mW_corrected:.1f} +\\- {mWerr_corrected:.1f}\")"
   ]
  },
  {
   "cell_type": "code",
   "execution_count": null,
   "id": "031d788b",
   "metadata": {},
   "outputs": [],
   "source": [
    "sin2theta = 1 - (mW_corrected/mZ)**2\n",
    "sin2theta_err = ### YOUR CODE HERE ###\n",
    "print(f\"sin^2(θ) = {sin2theta:.3f} +\\- {sin2theta_err:.3f}\")"
   ]
  },
  {
   "cell_type": "markdown",
   "id": "222cc2e3",
   "metadata": {},
   "source": [
    "-----"
   ]
  },
  {
   "cell_type": "markdown",
   "id": "5afb61c4",
   "metadata": {},
   "source": [
    "And the new $Sin^2(\\theta)$ should be at around:\n",
    "\n",
    "$$Sin^2(\\theta) = 0.21$$"
   ]
  },
  {
   "cell_type": "markdown",
   "id": "3fbd4b0e",
   "metadata": {},
   "source": [
    "This measurement is much better than the previous one! Congratulations on making it this far to this lab!\n",
    "\n",
    "Now if you have made it through this whole exercise, why don't you try to look for the Higgs boson. The Higgs boson also decays hadronically and decays predominantly to a certainy pair of particles. Take a look [here](http://pdg.lbl.gov/2019/reviews/rpp2019-rev-higgs-boson.pdf). \n",
    " <font color=\"blue\"> Can you search for the Higgs boson? What is your sensitivity.  </font>"
   ]
  },
  {
   "cell_type": "markdown",
   "id": "e5fb3a5d",
   "metadata": {},
   "source": [
    "------"
   ]
  },
  {
   "cell_type": "markdown",
   "id": "981a279c",
   "metadata": {},
   "source": [
    "## 4. Search for the Higgs Boson! (OPTIONAL)"
   ]
  }
 ],
 "metadata": {
  "kernelspec": {
   "display_name": "Python 3 (ipykernel)",
   "language": "python",
   "name": "python3"
  },
  "language_info": {
   "codemirror_mode": {
    "name": "ipython",
    "version": 3
   },
   "file_extension": ".py",
   "mimetype": "text/x-python",
   "name": "python",
   "nbconvert_exporter": "python",
   "pygments_lexer": "ipython3",
   "version": "3.11.4"
  }
 },
 "nbformat": 4,
 "nbformat_minor": 5
}
